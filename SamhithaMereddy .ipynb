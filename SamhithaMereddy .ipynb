{
 "cells": [
  {
   "cell_type": "code",
   "execution_count": 5,
   "id": "be138677",
   "metadata": {},
   "outputs": [],
   "source": [
    "import pandas as pd\n",
    "import numpy as np"
   ]
  },
  {
   "cell_type": "code",
   "execution_count": null,
   "id": "7cf84905",
   "metadata": {},
   "outputs": [],
   "source": []
  },
  {
   "cell_type": "code",
   "execution_count": null,
   "id": "6b6a566d",
   "metadata": {},
   "outputs": [],
   "source": [
    "# 1. Convert the list of 26 letters (a-z or A-Z) of the alphabet to the index of the DataFrame, \n",
    "# and assign 26 random integer numbers. Print out the first 5 rows.      [6 points]"
   ]
  },
  {
   "cell_type": "code",
   "execution_count": 3,
   "id": "0403e64a",
   "metadata": {},
   "outputs": [
    {
     "name": "stdout",
     "output_type": "stream",
     "text": [
      "   Values\n",
      "a      35\n",
      "b      92\n",
      "c      79\n",
      "d      27\n",
      "e      86\n"
     ]
    }
   ],
   "source": [
    "import string\n",
    "\n",
    "index = [chr(i) for i in range(ord('a'), ord('z')+1)]\n",
    "df = pd.DataFrame(np.random.randint(0, 100, size=(26,1)), index=index, columns=['Values'])\n",
    "print(df.iloc[:5])"
   ]
  },
  {
   "cell_type": "code",
   "execution_count": null,
   "id": "e72e5e52",
   "metadata": {},
   "outputs": [],
   "source": []
  },
  {
   "cell_type": "code",
   "execution_count": null,
   "id": "b53deeb8",
   "metadata": {},
   "outputs": [],
   "source": [
    "#2. Construct the following DataFrame and print it out.  [4 points]"
   ]
  },
  {
   "cell_type": "code",
   "execution_count": 6,
   "id": "ad025c87",
   "metadata": {},
   "outputs": [
    {
     "name": "stdout",
     "output_type": "stream",
     "text": [
      "   class1  class2  class3\n",
      "0       1       4       7\n",
      "1       2       5       5\n",
      "2       3       6       8\n",
      "3       4       9      12\n",
      "4       7       5       1\n",
      "5      11       0      11\n"
     ]
    }
   ],
   "source": [
    "df = pd.DataFrame({\n",
    "        'class1': [1, 2, 3, 4, 7, 11],\n",
    "        'class2': [4, 5, 6, 9, 5, 0],\n",
    "        'class3': [7, 5, 8, 12, 1, 11]\n",
    "                })\n",
    "\n",
    "print(df)\n"
   ]
  },
  {
   "cell_type": "code",
   "execution_count": 9,
   "id": "5798001b",
   "metadata": {},
   "outputs": [
    {
     "name": "stdout",
     "output_type": "stream",
     "text": [
      "0     1\n",
      "1     2\n",
      "2     3\n",
      "3     4\n",
      "4     7\n",
      "5    11\n",
      "Name: class1, dtype: int64\n"
     ]
    }
   ],
   "source": [
    "#Use \"iloc\" to convert the first column of this DataFrame as a Series.   \n",
    "ser = df.iloc[:, 0]\n",
    "series = pd.Series(ser)\n",
    "print(series)"
   ]
  },
  {
   "cell_type": "code",
   "execution_count": null,
   "id": "9ffd9dcd",
   "metadata": {},
   "outputs": [],
   "source": []
  },
  {
   "cell_type": "code",
   "execution_count": null,
   "id": "dc50502f",
   "metadata": {},
   "outputs": [],
   "source": [
    "#3. Work on the above data (Question 2), implement the following tasks using indexers loc and/or iloc:      [6 points]"
   ]
  },
  {
   "cell_type": "code",
   "execution_count": null,
   "id": "ee3b13a6",
   "metadata": {},
   "outputs": [],
   "source": [
    "#(1) Select all columns, except one given column 'class3', and print out the result."
   ]
  },
  {
   "cell_type": "code",
   "execution_count": 18,
   "id": "322507a9",
   "metadata": {},
   "outputs": [
    {
     "data": {
      "text/html": [
       "<div>\n",
       "<style scoped>\n",
       "    .dataframe tbody tr th:only-of-type {\n",
       "        vertical-align: middle;\n",
       "    }\n",
       "\n",
       "    .dataframe tbody tr th {\n",
       "        vertical-align: top;\n",
       "    }\n",
       "\n",
       "    .dataframe thead th {\n",
       "        text-align: right;\n",
       "    }\n",
       "</style>\n",
       "<table border=\"1\" class=\"dataframe\">\n",
       "  <thead>\n",
       "    <tr style=\"text-align: right;\">\n",
       "      <th></th>\n",
       "      <th>class1</th>\n",
       "      <th>class2</th>\n",
       "    </tr>\n",
       "  </thead>\n",
       "  <tbody>\n",
       "    <tr>\n",
       "      <th>0</th>\n",
       "      <td>1</td>\n",
       "      <td>4</td>\n",
       "    </tr>\n",
       "    <tr>\n",
       "      <th>1</th>\n",
       "      <td>2</td>\n",
       "      <td>5</td>\n",
       "    </tr>\n",
       "    <tr>\n",
       "      <th>2</th>\n",
       "      <td>3</td>\n",
       "      <td>6</td>\n",
       "    </tr>\n",
       "    <tr>\n",
       "      <th>3</th>\n",
       "      <td>4</td>\n",
       "      <td>9</td>\n",
       "    </tr>\n",
       "    <tr>\n",
       "      <th>4</th>\n",
       "      <td>7</td>\n",
       "      <td>5</td>\n",
       "    </tr>\n",
       "    <tr>\n",
       "      <th>5</th>\n",
       "      <td>11</td>\n",
       "      <td>0</td>\n",
       "    </tr>\n",
       "  </tbody>\n",
       "</table>\n",
       "</div>"
      ],
      "text/plain": [
       "   class1  class2\n",
       "0       1       4\n",
       "1       2       5\n",
       "2       3       6\n",
       "3       4       9\n",
       "4       7       5\n",
       "5      11       0"
      ]
     },
     "execution_count": 18,
     "metadata": {},
     "output_type": "execute_result"
    }
   ],
   "source": [
    "df.loc[:, :'class2']"
   ]
  },
  {
   "cell_type": "code",
   "execution_count": null,
   "id": "85de7da1",
   "metadata": {},
   "outputs": [],
   "source": [
    "#(2) Remove first 3 rows of the DataFrame and print it out."
   ]
  },
  {
   "cell_type": "code",
   "execution_count": 19,
   "id": "5e01e4e5",
   "metadata": {},
   "outputs": [
    {
     "data": {
      "text/html": [
       "<div>\n",
       "<style scoped>\n",
       "    .dataframe tbody tr th:only-of-type {\n",
       "        vertical-align: middle;\n",
       "    }\n",
       "\n",
       "    .dataframe tbody tr th {\n",
       "        vertical-align: top;\n",
       "    }\n",
       "\n",
       "    .dataframe thead th {\n",
       "        text-align: right;\n",
       "    }\n",
       "</style>\n",
       "<table border=\"1\" class=\"dataframe\">\n",
       "  <thead>\n",
       "    <tr style=\"text-align: right;\">\n",
       "      <th></th>\n",
       "      <th>class1</th>\n",
       "      <th>class2</th>\n",
       "      <th>class3</th>\n",
       "    </tr>\n",
       "  </thead>\n",
       "  <tbody>\n",
       "    <tr>\n",
       "      <th>3</th>\n",
       "      <td>4</td>\n",
       "      <td>9</td>\n",
       "      <td>12</td>\n",
       "    </tr>\n",
       "    <tr>\n",
       "      <th>4</th>\n",
       "      <td>7</td>\n",
       "      <td>5</td>\n",
       "      <td>1</td>\n",
       "    </tr>\n",
       "    <tr>\n",
       "      <th>5</th>\n",
       "      <td>11</td>\n",
       "      <td>0</td>\n",
       "      <td>11</td>\n",
       "    </tr>\n",
       "  </tbody>\n",
       "</table>\n",
       "</div>"
      ],
      "text/plain": [
       "   class1  class2  class3\n",
       "3       4       9      12\n",
       "4       7       5       1\n",
       "5      11       0      11"
      ]
     },
     "execution_count": 19,
     "metadata": {},
     "output_type": "execute_result"
    }
   ],
   "source": [
    "df.iloc[3:, :]"
   ]
  },
  {
   "cell_type": "code",
   "execution_count": null,
   "id": "d98916ff",
   "metadata": {},
   "outputs": [],
   "source": [
    "#(3) Remove last 3 rows of the DataFrame and print it out."
   ]
  },
  {
   "cell_type": "code",
   "execution_count": 22,
   "id": "4f91307f",
   "metadata": {},
   "outputs": [
    {
     "data": {
      "text/html": [
       "<div>\n",
       "<style scoped>\n",
       "    .dataframe tbody tr th:only-of-type {\n",
       "        vertical-align: middle;\n",
       "    }\n",
       "\n",
       "    .dataframe tbody tr th {\n",
       "        vertical-align: top;\n",
       "    }\n",
       "\n",
       "    .dataframe thead th {\n",
       "        text-align: right;\n",
       "    }\n",
       "</style>\n",
       "<table border=\"1\" class=\"dataframe\">\n",
       "  <thead>\n",
       "    <tr style=\"text-align: right;\">\n",
       "      <th></th>\n",
       "      <th>class1</th>\n",
       "      <th>class2</th>\n",
       "      <th>class3</th>\n",
       "    </tr>\n",
       "  </thead>\n",
       "  <tbody>\n",
       "    <tr>\n",
       "      <th>0</th>\n",
       "      <td>1</td>\n",
       "      <td>4</td>\n",
       "      <td>7</td>\n",
       "    </tr>\n",
       "    <tr>\n",
       "      <th>1</th>\n",
       "      <td>2</td>\n",
       "      <td>5</td>\n",
       "      <td>5</td>\n",
       "    </tr>\n",
       "    <tr>\n",
       "      <th>2</th>\n",
       "      <td>3</td>\n",
       "      <td>6</td>\n",
       "      <td>8</td>\n",
       "    </tr>\n",
       "  </tbody>\n",
       "</table>\n",
       "</div>"
      ],
      "text/plain": [
       "   class1  class2  class3\n",
       "0       1       4       7\n",
       "1       2       5       5\n",
       "2       3       6       8"
      ]
     },
     "execution_count": 22,
     "metadata": {},
     "output_type": "execute_result"
    }
   ],
   "source": [
    "df.iloc[:-3, :]"
   ]
  },
  {
   "cell_type": "code",
   "execution_count": null,
   "id": "9eaca03b",
   "metadata": {},
   "outputs": [],
   "source": []
  },
  {
   "cell_type": "code",
   "execution_count": null,
   "id": "3e117664",
   "metadata": {},
   "outputs": [],
   "source": [
    "# 4. Compute the Euclidean distance between two series (points) p1 and p2.    [4 points]"
   ]
  },
  {
   "cell_type": "code",
   "execution_count": 43,
   "id": "2cfad938",
   "metadata": {},
   "outputs": [
    {
     "name": "stdout",
     "output_type": "stream",
     "text": [
      "18.16590212458495\n"
     ]
    }
   ],
   "source": [
    "p1 = pd.Series([1, 2, 3, 4, 5, 6, 7, 8, 9, 10])\n",
    "p2 = pd.Series([8, 9, 10, 11, 12, 7, 6, 5, 4, 3])\n",
    "\n",
    "distance = sum((p1 - p2)**2)**0.5\n",
    "print(distance)\n"
   ]
  },
  {
   "cell_type": "code",
   "execution_count": null,
   "id": "d99e0bfb",
   "metadata": {},
   "outputs": [],
   "source": []
  },
  {
   "cell_type": "code",
   "execution_count": null,
   "id": "8d54cac8",
   "metadata": {},
   "outputs": [],
   "source": [
    "# 5. (1) Create a DataFrame df: the name of 4 columns is wxyz respectively, \n",
    "#    the name of 10 indexes is abcdefghij respectively. \n",
    "#    The values are randomly distributed in [1,100) and the seed is set as 100.     [4 points]"
   ]
  },
  {
   "cell_type": "code",
   "execution_count": 13,
   "id": "e41d05b7",
   "metadata": {},
   "outputs": [
    {
     "name": "stdout",
     "output_type": "stream",
     "text": [
      "    w   x   y   z\n",
      "a   9  25  68  88\n",
      "b  80  49  11  95\n",
      "c  53  99  54  67\n",
      "d  99  15  35  25\n",
      "e  16  61  59  17\n",
      "f  10  94  87   3\n",
      "g  28   5  32   2\n",
      "h  14  84   5  92\n",
      "i  60  68   8  50\n",
      "j  48  66  62  15\n"
     ]
    }
   ],
   "source": [
    "np.random.seed(100)\n",
    "data = np.random.randint(1, 100, size=(10, 4))\n",
    "df = pd.DataFrame(data, index=list('abcdefghij'), columns=list('wxyz'))\n",
    "print(df)"
   ]
  },
  {
   "cell_type": "code",
   "execution_count": null,
   "id": "102e23d4",
   "metadata": {},
   "outputs": [],
   "source": [
    "#(2) Create a new column such that, each row of this df contains the row number of nearest row-record \n",
    "# by Euclidean distance.     [8 points]"
   ]
  },
  {
   "cell_type": "code",
   "execution_count": 23,
   "id": "846a16a1",
   "metadata": {},
   "outputs": [
    {
     "name": "stdout",
     "output_type": "stream",
     "text": [
      "    w   x   y   z nearest_row\n",
      "a   9  25  68  88           e\n",
      "b  80  49  11  95           i\n",
      "c  53  99  54  67           i\n",
      "d  99  15  35  25           g\n",
      "e  16  61  59  17           j\n",
      "f  10  94  87   3           e\n",
      "g  28   5  32   2           e\n",
      "h  14  84   5  92           i\n",
      "i  60  68   8  50           b\n",
      "j  48  66  62  15           e\n"
     ]
    }
   ],
   "source": [
    "np.random.seed(100)\n",
    "data = np.random.randint(1, 100, size=(10, 4))\n",
    "df = pd.DataFrame(data, index=list('abcdefghij'), columns=list('wxyz'))\n",
    "\n",
    "dis = np.sqrt(np.sum(np.square(df.values[:, np.newaxis, :] - df.values), axis=-1))\n",
    "np.fill_diagonal(dis, np.inf)\n",
    "nearest_rows = df.index[np.argmin(dis, axis=1)]\n",
    "df['nearest_row'] = nearest_rows\n",
    "\n",
    "print(df)"
   ]
  },
  {
   "cell_type": "code",
   "execution_count": null,
   "id": "9bdd676d",
   "metadata": {},
   "outputs": [],
   "source": []
  },
  {
   "cell_type": "code",
   "execution_count": null,
   "id": "fae025d5",
   "metadata": {},
   "outputs": [],
   "source": [
    "# 6. Create a Dataframe with rows as strides from a given series: L = pd.Series(range(15))         [8 points]"
   ]
  },
  {
   "cell_type": "code",
   "execution_count": null,
   "id": "844e8f39",
   "metadata": {},
   "outputs": [],
   "source": []
  },
  {
   "cell_type": "code",
   "execution_count": 27,
   "id": "1d3360b1",
   "metadata": {},
   "outputs": [
    {
     "data": {
      "text/plain": [
       "array([[ 0,  1,  2,  3],\n",
       "       [ 2,  3,  4,  5],\n",
       "       [ 4,  5,  6,  7],\n",
       "       [ 6,  7,  8,  9],\n",
       "       [ 8,  9, 10, 11],\n",
       "       [10, 11, 12, 13]], dtype=int64)"
      ]
     },
     "execution_count": 27,
     "metadata": {},
     "output_type": "execute_result"
    }
   ],
   "source": [
    "L = pd.Series(range(15))\n",
    "\n",
    "def strides(a, stride_len=5, window_len=5):\n",
    "    n_strides = ((a.size-window_len)//stride_len) + 1\n",
    "    return np.array([a.iloc[s:(s+window_len)].values for s in np.arange(0, a.size, stride_len)[:n_strides]])\n",
    "\n",
    "strides(L, stride_len=2, window_len=4)\n"
   ]
  },
  {
   "cell_type": "code",
   "execution_count": null,
   "id": "5b20e6e0",
   "metadata": {},
   "outputs": [],
   "source": []
  },
  {
   "cell_type": "code",
   "execution_count": null,
   "id": "b2b24ab2",
   "metadata": {},
   "outputs": [],
   "source": [
    "# 7. (1) Create a DataFrame, the name of columns is abcde respectively, the values ranges [0,20).      [2 points]"
   ]
  },
  {
   "cell_type": "code",
   "execution_count": 41,
   "id": "d91a60c7",
   "metadata": {},
   "outputs": [
    {
     "name": "stdout",
     "output_type": "stream",
     "text": [
      "    a   b   c   d   e\n",
      "0  13   3  16  12  18\n",
      "1  13  12   3  10   8\n",
      "2   8  12  18  12   0\n",
      "3   9   8   2  16   5\n",
      "4  19   2   3  14  13\n"
     ]
    }
   ],
   "source": [
    "df = pd.DataFrame(np.random.randint(0, 20, size=(5, 5)), columns=list('abcde'))\n",
    "print(df)"
   ]
  },
  {
   "cell_type": "code",
   "execution_count": null,
   "id": "feb341bf",
   "metadata": {},
   "outputs": [],
   "source": [
    "# (2) Interchange columns 'a' and 'c'.      [2 points]"
   ]
  },
  {
   "cell_type": "code",
   "execution_count": 32,
   "id": "9e2f99a0",
   "metadata": {},
   "outputs": [
    {
     "name": "stdout",
     "output_type": "stream",
     "text": [
      "    c   b   a   d   e\n",
      "0  14  19   8   0  13\n",
      "1   3  10  12   6   3\n",
      "2  15  10  15   3   9\n",
      "3   4  11  16   5   7\n",
      "4  10   2   6  18  13\n"
     ]
    }
   ],
   "source": [
    "df = df[['c', 'b', 'a', 'd', 'e']]\n",
    "print(df)"
   ]
  },
  {
   "cell_type": "code",
   "execution_count": null,
   "id": "a85ee5cc",
   "metadata": {},
   "outputs": [],
   "source": [
    "# (3) Create a generic function to interchange arbitrary two columns [6 points]."
   ]
  },
  {
   "cell_type": "code",
   "execution_count": 37,
   "id": "3150b046",
   "metadata": {},
   "outputs": [
    {
     "name": "stdout",
     "output_type": "stream",
     "text": [
      "Original df values:\n",
      "    c   b   a   d   e\n",
      "0  14   8  19  13   0\n",
      "1   3  12  10   3   6\n",
      "2  15  15  10   9   3\n",
      "3   4  16  11   7   5\n",
      "4  10   6   2  13  18\n",
      "Swapped Values\n",
      "    c   b   a   d   e\n",
      "0  14  19   8  13   0\n",
      "1   3  10  12   3   6\n",
      "2  15  10  15   9   3\n",
      "3   4  11  16   7   5\n",
      "4  10   2   6  13  18\n"
     ]
    }
   ],
   "source": [
    "def swap(df, c1, c2):\n",
    "    df[c1], df[c2] = df[c2], df[c1]\n",
    "    return df\n",
    "\n",
    "print('Original df values:')\n",
    "print(df)\n",
    "print('Swapped Values')\n",
    "df = swap(df, 'a', 'b')\n",
    "print(df)"
   ]
  },
  {
   "cell_type": "code",
   "execution_count": 60,
   "id": "e473ad17",
   "metadata": {},
   "outputs": [],
   "source": [
    "# (4) Sort the columns in reverse alphabetical order, that is column 'e' first through column 'a' last.     [2 points]"
   ]
  },
  {
   "cell_type": "code",
   "execution_count": 42,
   "id": "0640b983",
   "metadata": {},
   "outputs": [
    {
     "name": "stdout",
     "output_type": "stream",
     "text": [
      "    e   d   c   b   a\n",
      "0  18  12  16   3  13\n",
      "1   8  10   3  12  13\n",
      "2   0  12  18  12   8\n",
      "3   5  16   2   8   9\n",
      "4  13  14   3   2  19\n"
     ]
    }
   ],
   "source": [
    "df = df[sorted(df.columns, reverse=True)]\n",
    "print(df)"
   ]
  },
  {
   "cell_type": "code",
   "execution_count": null,
   "id": "aa304358",
   "metadata": {},
   "outputs": [],
   "source": []
  },
  {
   "cell_type": "code",
   "execution_count": null,
   "id": "f1c19ff8",
   "metadata": {},
   "outputs": [],
   "source": [
    "# 8. (1) Create a df, for the values [0,100) with a seed 1, its shape is (8,10).       [2 points]"
   ]
  },
  {
   "cell_type": "code",
   "execution_count": 43,
   "id": "92628cf6",
   "metadata": {},
   "outputs": [
    {
     "name": "stdout",
     "output_type": "stream",
     "text": [
      "    0   1   2   3   4   5   6   7   8   9\n",
      "0  37  12  72   9  75   5  79  64  16   1\n",
      "1  76  71   6  25  50  20  18  84  11  28\n",
      "2  29  14  50  68  87  87  94  96  86  13\n",
      "3   9   7  63  61  22  57   1   0  60  81\n",
      "4   8  88  13  47  72  30  71   3  70  21\n",
      "5  49  57   3  68  24  43  76  26  52  80\n",
      "6  41  82  15  64  68  25  98  87   7  26\n",
      "7  25  22   9  67  23  27  37  57  83  38\n"
     ]
    }
   ],
   "source": [
    "np.random.seed(1)\n",
    "df = pd.DataFrame(np.random.randint(0, 100, size=(8, 10)))\n",
    "print(df)"
   ]
  },
  {
   "cell_type": "code",
   "execution_count": null,
   "id": "39bc93de",
   "metadata": {},
   "outputs": [],
   "source": [
    "# (2) Create a new column with the name 'largest2nd', \n",
    "# which has the second largest value of each row of df.        [6 points]"
   ]
  },
  {
   "cell_type": "code",
   "execution_count": 44,
   "id": "b81d6c31",
   "metadata": {},
   "outputs": [
    {
     "name": "stdout",
     "output_type": "stream",
     "text": [
      "    0   1   2   3   4   5   6   7   8   9  largest2nd\n",
      "0  37  12  72   9  75   5  79  64  16   1          75\n",
      "1  76  71   6  25  50  20  18  84  11  28          76\n",
      "2  29  14  50  68  87  87  94  96  86  13          94\n",
      "3   9   7  63  61  22  57   1   0  60  81          63\n",
      "4   8  88  13  47  72  30  71   3  70  21          72\n",
      "5  49  57   3  68  24  43  76  26  52  80          76\n",
      "6  41  82  15  64  68  25  98  87   7  26          87\n",
      "7  25  22   9  67  23  27  37  57  83  38          67\n"
     ]
    }
   ],
   "source": [
    "def secondlarge(row):\n",
    "    sortedrow = sorted(row, reverse=True)\n",
    "    return sortedrow[1]\n",
    "\n",
    "df['largest2nd'] = df.apply(secondlarge, axis=1)\n",
    "\n",
    "print(df)"
   ]
  },
  {
   "cell_type": "code",
   "execution_count": null,
   "id": "f473fa30",
   "metadata": {},
   "outputs": [],
   "source": []
  },
  {
   "cell_type": "code",
   "execution_count": null,
   "id": "33446603",
   "metadata": {},
   "outputs": [],
   "source": [
    "# 9. For the same df created in Question8-(1), use Pandas ufuncs to normalize all columns of df \n",
    "# by subtracting the column mean and divide by standard deviation and keep the result (float) within \n",
    "# two decimal places.         [4 points]"
   ]
  },
  {
   "cell_type": "code",
   "execution_count": 45,
   "id": "2af0a851",
   "metadata": {},
   "outputs": [
    {
     "name": "stdout",
     "output_type": "stream",
     "text": [
      "    0   1   2   3   4   5   6   7   8   9\n",
      "0  37  12  72   9  75   5  79  64  16   1\n",
      "1  76  71   6  25  50  20  18  84  11  28\n",
      "2  29  14  50  68  87  87  94  96  86  13\n",
      "3   9   7  63  61  22  57   1   0  60  81\n",
      "4   8  88  13  47  72  30  71   3  70  21\n",
      "5  49  57   3  68  24  43  76  26  52  80\n",
      "6  41  82  15  64  68  25  98  87   7  26\n",
      "7  25  22   9  67  23  27  37  57  83  38\n",
      "      0     1     2     3     4     5     6     7     8     9\n",
      "0  0.12 -0.95  1.54 -1.87  0.84 -1.25  0.55  0.31 -0.99 -1.18\n",
      "1  1.88  0.79 -0.82 -1.16 -0.10 -0.66 -1.14  0.84 -1.14 -0.27\n",
      "2 -0.24 -0.89  0.75  0.75  1.29  1.97  0.96  1.15  1.17 -0.78\n",
      "3 -1.14 -1.09  1.22  0.44 -1.15  0.80 -1.61 -1.37  0.37  1.52\n",
      "4 -1.18  1.29 -0.57 -0.18  0.73 -0.27  0.33 -1.29  0.67 -0.51\n",
      "5  0.66  0.38 -0.92  0.75 -1.08  0.25  0.46 -0.69  0.12  1.49\n",
      "6  0.30  1.12 -0.49  0.57  0.58 -0.46  1.07  0.92 -1.27 -0.34\n",
      "7 -0.42 -0.65 -0.71  0.70 -1.12 -0.38 -0.62  0.13  1.07  0.07\n"
     ]
    }
   ],
   "source": [
    "np.random.seed(1)\n",
    "df = pd.DataFrame(np.random.randint(0, 100, size=(8, 10)))\n",
    "print(df)\n",
    "\n",
    "normalize = (df - df.mean()) / df.std()\n",
    "normalize = normalize.round(2)\n",
    "\n",
    "print(normalize)"
   ]
  },
  {
   "cell_type": "code",
   "execution_count": null,
   "id": "bb77cc33",
   "metadata": {},
   "outputs": [],
   "source": []
  },
  {
   "cell_type": "code",
   "execution_count": null,
   "id": "a4460d2a",
   "metadata": {},
   "outputs": [],
   "source": [
    "# 10. For the same df created in Question8-(1), \n",
    "# compute the correlation of each row of df with its succeeding row.   [6 points]"
   ]
  },
  {
   "cell_type": "code",
   "execution_count": 50,
   "id": "57dbd3a1",
   "metadata": {},
   "outputs": [
    {
     "name": "stdout",
     "output_type": "stream",
     "text": [
      "    0   1   2   3   4   5   6   7   8   9\n",
      "0  37  12  72   9  75   5  79  64  16   1\n",
      "1  76  71   6  25  50  20  18  84  11  28\n",
      "2  29  14  50  68  87  87  94  96  86  13\n",
      "3   9   7  63  61  22  57   1   0  60  81\n",
      "4   8  88  13  47  72  30  71   3  70  21\n",
      "5  49  57   3  68  24  43  76  26  52  80\n",
      "6  41  82  15  64  68  25  98  87   7  26\n",
      "7  25  22   9  67  23  27  37  57  83  38\n",
      "0    0.093043\n",
      "1   -0.221440\n",
      "2   -0.181497\n",
      "3   -0.186845\n",
      "4    0.324428\n",
      "5    0.197334\n",
      "6   -0.038168\n",
      "dtype: float64\n"
     ]
    }
   ],
   "source": [
    "np.random.seed(1)\n",
    "df = pd.DataFrame(np.random.randint(0, 100, size=(8, 10)))\n",
    "print(df)\n",
    "\n",
    "corr_values = df.corrwith(df.shift(-1), axis=1).dropna()\n",
    "print(corr_values)"
   ]
  },
  {
   "cell_type": "code",
   "execution_count": null,
   "id": "6c329152",
   "metadata": {},
   "outputs": [],
   "source": []
  },
  {
   "cell_type": "code",
   "execution_count": null,
   "id": "950f8d7e",
   "metadata": {},
   "outputs": [],
   "source": [
    "# 11. Two DataFrames, df1, df2 are given as below. Join df1 and df2 by ‘fruit1-fruit2’ and \n",
    "# ‘weight-pounds’; 'price' in left and right DataFrames will be kept in an appropriate way. [4 points]"
   ]
  },
  {
   "cell_type": "code",
   "execution_count": 60,
   "id": "f3e86f64",
   "metadata": {},
   "outputs": [
    {
     "name": "stdout",
     "output_type": "stream",
     "text": [
      "   fruit1 weight  price1  fruit2 pounds  price2\n",
      "0   apple   high      13   apple   high       7\n",
      "1   apple   high       0   apple   high       7\n",
      "2   apple   high       0   apple   high       7\n",
      "3  orange    low       9  orange    low      12\n",
      "4  orange    low       2  orange    low      12\n",
      "5  orange    low      10  orange    low      12\n",
      "\n",
      "   fruit1 weight  price1  price2\n",
      "0   apple   high      13       7\n",
      "1   apple   high       0       7\n",
      "2   apple   high       0       7\n",
      "3  orange    low       9      12\n",
      "4  orange    low       2      12\n",
      "5  orange    low      10      12\n"
     ]
    }
   ],
   "source": [
    "df1 = pd.DataFrame({'fruit1': ['apple', 'banana', 'orange'] * 3,\n",
    "                    'weight': ['high', 'medium', 'low'] * 3,\n",
    "                    'price1': np.random.randint(0, 15, 9)})\n",
    "\n",
    "df2 = pd.DataFrame({'fruit2': ['apple', 'orange', 'pine'] * 2,\n",
    "                    'pounds': ['high', 'low'] * 3,\n",
    "                    'price2': np.random.randint(0, 15, 6)})\n",
    "\n",
    "\n",
    "merged_df = pd.merge(df1, df2, left_on=['fruit1', 'weight'], right_on=['fruit2', 'pounds'])\n",
    "print(merged_df)\n",
    "print('')\n",
    "# dropping the redundant 'fruit2' and 'pounds' columns\n",
    "merged_df = merged_df.drop(columns=['fruit2', 'pounds'])\n",
    "print(merged_df)"
   ]
  },
  {
   "cell_type": "code",
   "execution_count": null,
   "id": "d111448d",
   "metadata": {},
   "outputs": [],
   "source": []
  },
  {
   "cell_type": "code",
   "execution_count": null,
   "id": "94344726",
   "metadata": {},
   "outputs": [],
   "source": [
    "# 12. (1) Create a df, for the values [0,10) with a seed 10, its shape is (6,6).    [2 points]"
   ]
  },
  {
   "cell_type": "code",
   "execution_count": 61,
   "id": "abb9df23",
   "metadata": {},
   "outputs": [
    {
     "name": "stdout",
     "output_type": "stream",
     "text": [
      "   0  1  2  3  4  5\n",
      "0  9  4  0  1  9  0\n",
      "1  1  8  9  0  8  6\n",
      "2  4  3  0  4  6  8\n",
      "3  1  8  4  1  3  6\n",
      "4  5  3  9  6  9  1\n",
      "5  9  4  2  6  7  8\n"
     ]
    }
   ],
   "source": [
    "np.random.seed(10)\n",
    "df = pd.DataFrame(np.random.randint(0, 10, size=(6, 6)))\n",
    "print(df)"
   ]
  },
  {
   "cell_type": "code",
   "execution_count": 62,
   "id": "00ef6634",
   "metadata": {},
   "outputs": [],
   "source": [
    "# (2) Use 0 to replace the values on both diagonals of this dataframe.       [4 points]"
   ]
  },
  {
   "cell_type": "code",
   "execution_count": 63,
   "id": "cb4446c8",
   "metadata": {},
   "outputs": [
    {
     "name": "stdout",
     "output_type": "stream",
     "text": [
      "   0  1  2  3  4  5\n",
      "0  0  4  0  1  9  0\n",
      "1  1  0  9  0  0  6\n",
      "2  4  3  0  0  6  8\n",
      "3  1  8  0  0  3  6\n",
      "4  5  0  9  6  0  1\n",
      "5  0  4  2  6  7  0\n"
     ]
    }
   ],
   "source": [
    "for i in range(6):\n",
    "    df.iloc[i, i] = 0\n",
    "    df.iloc[i, 5-i] = 0\n",
    "\n",
    "print(df)"
   ]
  },
  {
   "cell_type": "code",
   "execution_count": null,
   "id": "a117818a",
   "metadata": {},
   "outputs": [],
   "source": []
  },
  {
   "cell_type": "code",
   "execution_count": 121,
   "id": "52814b87",
   "metadata": {},
   "outputs": [],
   "source": [
    "# 13. (1) Read data from the file 'users.txt' and use the 'user_id' as index name.  [2 points]"
   ]
  },
  {
   "cell_type": "code",
   "execution_count": 7,
   "id": "dc4978ac",
   "metadata": {},
   "outputs": [
    {
     "name": "stdout",
     "output_type": "stream",
     "text": [
      "         age gender     occupation zip_code\n",
      "user_id                                    \n",
      "1         24      M     technician    85711\n",
      "2         53      F          other    94043\n",
      "3         23      M         writer    32067\n",
      "4         24      M     technician    43537\n",
      "5         33      F          other    15213\n",
      "...      ...    ...            ...      ...\n",
      "939       26      F        student    33319\n",
      "940       32      M  administrator    02215\n",
      "941       20      M        student    97229\n",
      "942       48      F      librarian    78209\n",
      "943       22      M        student    77841\n",
      "\n",
      "[943 rows x 4 columns]\n"
     ]
    }
   ],
   "source": [
    "file_path = \"/Users/Samhitha/Downloads/users.txt\"\n",
    "df = pd.read_csv(file_path, delimiter='|')\n",
    "df = df.set_index('user_id')\n",
    "print(df)"
   ]
  },
  {
   "cell_type": "code",
   "execution_count": 67,
   "id": "13a765a3",
   "metadata": {},
   "outputs": [],
   "source": [
    "# (2) See the first 10 entries.   [2 points]"
   ]
  },
  {
   "cell_type": "code",
   "execution_count": 8,
   "id": "2082c7f2",
   "metadata": {},
   "outputs": [
    {
     "data": {
      "text/html": [
       "<div>\n",
       "<style scoped>\n",
       "    .dataframe tbody tr th:only-of-type {\n",
       "        vertical-align: middle;\n",
       "    }\n",
       "\n",
       "    .dataframe tbody tr th {\n",
       "        vertical-align: top;\n",
       "    }\n",
       "\n",
       "    .dataframe thead th {\n",
       "        text-align: right;\n",
       "    }\n",
       "</style>\n",
       "<table border=\"1\" class=\"dataframe\">\n",
       "  <thead>\n",
       "    <tr style=\"text-align: right;\">\n",
       "      <th></th>\n",
       "      <th>age</th>\n",
       "      <th>gender</th>\n",
       "      <th>occupation</th>\n",
       "      <th>zip_code</th>\n",
       "    </tr>\n",
       "    <tr>\n",
       "      <th>user_id</th>\n",
       "      <th></th>\n",
       "      <th></th>\n",
       "      <th></th>\n",
       "      <th></th>\n",
       "    </tr>\n",
       "  </thead>\n",
       "  <tbody>\n",
       "    <tr>\n",
       "      <th>1</th>\n",
       "      <td>24</td>\n",
       "      <td>M</td>\n",
       "      <td>technician</td>\n",
       "      <td>85711</td>\n",
       "    </tr>\n",
       "    <tr>\n",
       "      <th>2</th>\n",
       "      <td>53</td>\n",
       "      <td>F</td>\n",
       "      <td>other</td>\n",
       "      <td>94043</td>\n",
       "    </tr>\n",
       "    <tr>\n",
       "      <th>3</th>\n",
       "      <td>23</td>\n",
       "      <td>M</td>\n",
       "      <td>writer</td>\n",
       "      <td>32067</td>\n",
       "    </tr>\n",
       "    <tr>\n",
       "      <th>4</th>\n",
       "      <td>24</td>\n",
       "      <td>M</td>\n",
       "      <td>technician</td>\n",
       "      <td>43537</td>\n",
       "    </tr>\n",
       "    <tr>\n",
       "      <th>5</th>\n",
       "      <td>33</td>\n",
       "      <td>F</td>\n",
       "      <td>other</td>\n",
       "      <td>15213</td>\n",
       "    </tr>\n",
       "    <tr>\n",
       "      <th>6</th>\n",
       "      <td>42</td>\n",
       "      <td>M</td>\n",
       "      <td>executive</td>\n",
       "      <td>98101</td>\n",
       "    </tr>\n",
       "    <tr>\n",
       "      <th>7</th>\n",
       "      <td>57</td>\n",
       "      <td>M</td>\n",
       "      <td>administrator</td>\n",
       "      <td>91344</td>\n",
       "    </tr>\n",
       "    <tr>\n",
       "      <th>8</th>\n",
       "      <td>36</td>\n",
       "      <td>M</td>\n",
       "      <td>administrator</td>\n",
       "      <td>05201</td>\n",
       "    </tr>\n",
       "    <tr>\n",
       "      <th>9</th>\n",
       "      <td>29</td>\n",
       "      <td>M</td>\n",
       "      <td>student</td>\n",
       "      <td>01002</td>\n",
       "    </tr>\n",
       "    <tr>\n",
       "      <th>10</th>\n",
       "      <td>53</td>\n",
       "      <td>M</td>\n",
       "      <td>lawyer</td>\n",
       "      <td>90703</td>\n",
       "    </tr>\n",
       "  </tbody>\n",
       "</table>\n",
       "</div>"
      ],
      "text/plain": [
       "         age gender     occupation zip_code\n",
       "user_id                                    \n",
       "1         24      M     technician    85711\n",
       "2         53      F          other    94043\n",
       "3         23      M         writer    32067\n",
       "4         24      M     technician    43537\n",
       "5         33      F          other    15213\n",
       "6         42      M      executive    98101\n",
       "7         57      M  administrator    91344\n",
       "8         36      M  administrator    05201\n",
       "9         29      M        student    01002\n",
       "10        53      M         lawyer    90703"
      ]
     },
     "execution_count": 8,
     "metadata": {},
     "output_type": "execute_result"
    }
   ],
   "source": [
    "df[:10]"
   ]
  },
  {
   "cell_type": "code",
   "execution_count": null,
   "id": "2fd41dc8",
   "metadata": {},
   "outputs": [],
   "source": [
    "# (3) Output the name of all the columns.    [2 points]"
   ]
  },
  {
   "cell_type": "code",
   "execution_count": 151,
   "id": "30c6a24c",
   "metadata": {},
   "outputs": [
    {
     "name": "stdout",
     "output_type": "stream",
     "text": [
      "Index(['age', 'gender', 'occupation', 'zip_code'], dtype='object')\n"
     ]
    }
   ],
   "source": [
    "print(df.columns)"
   ]
  },
  {
   "cell_type": "code",
   "execution_count": null,
   "id": "fa3a377c",
   "metadata": {},
   "outputs": [],
   "source": [
    "# (4) Output the data type of each column.   [2 points]"
   ]
  },
  {
   "cell_type": "code",
   "execution_count": 153,
   "id": "87024155",
   "metadata": {},
   "outputs": [
    {
     "name": "stdout",
     "output_type": "stream",
     "text": [
      "age            int64\n",
      "gender        object\n",
      "occupation    object\n",
      "zip_code      object\n",
      "dtype: object\n"
     ]
    }
   ],
   "source": [
    "print(df.dtypes)"
   ]
  },
  {
   "cell_type": "code",
   "execution_count": null,
   "id": "f49d1418",
   "metadata": {},
   "outputs": [],
   "source": [
    "# (5) Output only the 'occupation' column.   [2 points]"
   ]
  },
  {
   "cell_type": "code",
   "execution_count": 132,
   "id": "bae92652",
   "metadata": {},
   "outputs": [
    {
     "data": {
      "text/plain": [
       "user_id\n",
       "1         technician\n",
       "2              other\n",
       "3             writer\n",
       "4         technician\n",
       "5              other\n",
       "           ...      \n",
       "939          student\n",
       "940    administrator\n",
       "941          student\n",
       "942        librarian\n",
       "943          student\n",
       "Name: occupation, Length: 943, dtype: object"
      ]
     },
     "execution_count": 132,
     "metadata": {},
     "output_type": "execute_result"
    }
   ],
   "source": [
    "df['occupation']"
   ]
  },
  {
   "cell_type": "code",
   "execution_count": null,
   "id": "b4b11254",
   "metadata": {},
   "outputs": [],
   "source": [
    "# (6) Find how many different occupations are in this dataset.  [3 points]"
   ]
  },
  {
   "cell_type": "code",
   "execution_count": 135,
   "id": "85dafdca",
   "metadata": {},
   "outputs": [
    {
     "name": "stdout",
     "output_type": "stream",
     "text": [
      "21\n"
     ]
    }
   ],
   "source": [
    "occupationtotal = df['occupation'].nunique()\n",
    "print(occupationtotal)"
   ]
  },
  {
   "cell_type": "code",
   "execution_count": null,
   "id": "f630ea7d",
   "metadata": {},
   "outputs": [],
   "source": [
    "# (7) Summarize the 'occupation' column by describe().    [2 points]"
   ]
  },
  {
   "cell_type": "code",
   "execution_count": 154,
   "id": "506bdcb1",
   "metadata": {},
   "outputs": [
    {
     "name": "stdout",
     "output_type": "stream",
     "text": [
      "count         943\n",
      "unique         21\n",
      "top       student\n",
      "freq          196\n",
      "Name: occupation, dtype: object\n"
     ]
    }
   ],
   "source": [
    "print(df['occupation'].describe())"
   ]
  },
  {
   "cell_type": "code",
   "execution_count": null,
   "id": "c011df84",
   "metadata": {},
   "outputs": [],
   "source": [
    "# (8) Calculate the mean age of users and return an integer number.  [2 points]"
   ]
  },
  {
   "cell_type": "code",
   "execution_count": 156,
   "id": "54f53752",
   "metadata": {},
   "outputs": [
    {
     "name": "stdout",
     "output_type": "stream",
     "text": [
      "34\n"
     ]
    }
   ],
   "source": [
    "mean_age = int(df['age'].mean())\n",
    "print(mean_age)"
   ]
  },
  {
   "cell_type": "code",
   "execution_count": null,
   "id": "1b084050",
   "metadata": {},
   "outputs": [],
   "source": [
    "# (9) List the age with the least occurrence. [3 points]"
   ]
  },
  {
   "cell_type": "code",
   "execution_count": 157,
   "id": "5bd43dcf",
   "metadata": {},
   "outputs": [
    {
     "data": {
      "text/plain": [
       "73"
      ]
     },
     "execution_count": 157,
     "metadata": {},
     "output_type": "execute_result"
    }
   ],
   "source": [
    "df['age'].value_counts().sort_values().index[0]"
   ]
  },
  {
   "cell_type": "code",
   "execution_count": null,
   "id": "c638df2d",
   "metadata": {},
   "outputs": [],
   "source": []
  },
  {
   "cell_type": "code",
   "execution_count": null,
   "id": "f738b592",
   "metadata": {},
   "outputs": [],
   "source": []
  },
  {
   "cell_type": "code",
   "execution_count": null,
   "id": "e25a45ea",
   "metadata": {},
   "outputs": [],
   "source": []
  },
  {
   "cell_type": "code",
   "execution_count": null,
   "id": "d3555602",
   "metadata": {},
   "outputs": [],
   "source": []
  },
  {
   "cell_type": "code",
   "execution_count": null,
   "id": "266d9335",
   "metadata": {},
   "outputs": [],
   "source": []
  },
  {
   "cell_type": "code",
   "execution_count": null,
   "id": "686cf592",
   "metadata": {},
   "outputs": [],
   "source": []
  },
  {
   "cell_type": "code",
   "execution_count": null,
   "id": "880f5a5d",
   "metadata": {},
   "outputs": [],
   "source": []
  },
  {
   "cell_type": "code",
   "execution_count": null,
   "id": "f64a80ee",
   "metadata": {},
   "outputs": [],
   "source": []
  }
 ],
 "metadata": {
  "kernelspec": {
   "display_name": "Python 3 (ipykernel)",
   "language": "python",
   "name": "python3"
  },
  "language_info": {
   "codemirror_mode": {
    "name": "ipython",
    "version": 3
   },
   "file_extension": ".py",
   "mimetype": "text/x-python",
   "name": "python",
   "nbconvert_exporter": "python",
   "pygments_lexer": "ipython3",
   "version": "3.9.13"
  }
 },
 "nbformat": 4,
 "nbformat_minor": 5
}
