{
 "cells": [
  {
   "cell_type": "code",
   "execution_count": 24,
   "id": "b391da32-d87c-4d46-acc7-98d023500243",
   "metadata": {},
   "outputs": [],
   "source": [
    "import numpy as np"
   ]
  },
  {
   "cell_type": "code",
   "execution_count": null,
   "id": "512c5be4-8238-4090-a2a0-67747cbdddff",
   "metadata": {},
   "outputs": [],
   "source": [
    "#PART-1"
   ]
  },
  {
   "cell_type": "code",
   "execution_count": 121,
   "id": "45c2c5aa-2966-434e-abc7-a042e34bb1ac",
   "metadata": {},
   "outputs": [],
   "source": [
    "# 1) Use 2 approaches to create a 2D array with shape (3,2) in one line, the values are [1, 6].         2 points\n",
    "#     One is a Python range(); Another is NumPy arange() or other NumPy functions.\n",
    "#     Note: if you use more than 1 line code to complete it, no point."
   ]
  },
  {
   "cell_type": "code",
   "execution_count": 26,
   "id": "525a0417-829f-428f-96c6-4f9660bffab9",
   "metadata": {},
   "outputs": [
    {
     "name": "stdout",
     "output_type": "stream",
     "text": [
      "[[1, 2], [3, 4], [5, 6]]\n"
     ]
    }
   ],
   "source": [
    "#Creating 2D array using Python range():\n",
    "x = [[i, i + 1] for i in range(1, 7, 2)]\n",
    "print(x)"
   ]
  },
  {
   "cell_type": "code",
   "execution_count": 27,
   "id": "d1d8be5e-8b77-4cd0-ad91-cf3643fd0cca",
   "metadata": {},
   "outputs": [
    {
     "name": "stdout",
     "output_type": "stream",
     "text": [
      "[[1 2]\n",
      " [3 4]\n",
      " [5 6]]\n"
     ]
    }
   ],
   "source": [
    "#Creating 2D array using NumPy arange()\n",
    "x=np.arange(1,7).reshape((3,2))\n",
    "print(x)"
   ]
  },
  {
   "cell_type": "code",
   "execution_count": null,
   "id": "480c563c-b1bc-46b0-bc37-609c22a4b292",
   "metadata": {},
   "outputs": [],
   "source": []
  },
  {
   "cell_type": "code",
   "execution_count": 28,
   "id": "0f414a62-ecbb-4c9c-8af8-3ee393817914",
   "metadata": {},
   "outputs": [],
   "source": [
    "# 2) Use one line to create an array of 2, 4, 6, 8, ..., 98, 100; and find the mean value.           1 point   "
   ]
  },
  {
   "cell_type": "code",
   "execution_count": 29,
   "id": "a0db0225-fa6b-410f-8d36-d7f6468d6ef1",
   "metadata": {},
   "outputs": [
    {
     "name": "stdout",
     "output_type": "stream",
     "text": [
      "51.0\n"
     ]
    }
   ],
   "source": [
    "x= np.mean(np.arange(2,101,2))\n",
    "print(x)"
   ]
  },
  {
   "cell_type": "code",
   "execution_count": null,
   "id": "9f7af248-038e-477a-a8a6-11d05fa5aaaa",
   "metadata": {},
   "outputs": [],
   "source": []
  },
  {
   "cell_type": "code",
   "execution_count": null,
   "id": "61562366-2442-4754-a9cf-7aba838a7801",
   "metadata": {},
   "outputs": [],
   "source": [
    "# 3) Create an 3x3x3 array filled with arbitrary float numbers and set seed=100; and find the minimum and maximum values. "
   ]
  },
  {
   "cell_type": "code",
   "execution_count": 36,
   "id": "34020e6b-9f08-45b9-9b86-3eee454918bf",
   "metadata": {},
   "outputs": [
    {
     "name": "stdout",
     "output_type": "stream",
     "text": [
      "[[[0.83498163 0.59655403 0.28886324]\n",
      "  [0.04295157 0.9736544  0.5964717 ]\n",
      "  [0.79026316 0.91033938 0.68815445]]\n",
      "\n",
      " [[0.18999147 0.98147898 0.28474005]\n",
      "  [0.62927317 0.58103648 0.59991227]\n",
      "  [0.53524811 0.9957771  0.50194608]]\n",
      "\n",
      " [[0.77102258 0.49416178 0.99767449]\n",
      "  [0.97862192 0.39356804 0.32192526]\n",
      "  [0.86218065 0.7993249  0.69143063]]]\n"
     ]
    }
   ],
   "source": [
    "rng = np.random.default_rng(seed=100)  #creating 3x3x3 array\n",
    "x=rng.random((3,3,3))\n",
    "print(x)"
   ]
  },
  {
   "cell_type": "code",
   "execution_count": 38,
   "id": "6a7e1cc2-348d-4ad7-abc9-5dedff1c103b",
   "metadata": {},
   "outputs": [
    {
     "name": "stdout",
     "output_type": "stream",
     "text": [
      "0.042951570694211405\n"
     ]
    }
   ],
   "source": [
    "print(np.min(x))        # finding minimum"
   ]
  },
  {
   "cell_type": "code",
   "execution_count": 39,
   "id": "32ce82d1-c560-4491-b74d-7d8c1be0d954",
   "metadata": {},
   "outputs": [
    {
     "name": "stdout",
     "output_type": "stream",
     "text": [
      "0.9976744931721895\n"
     ]
    }
   ],
   "source": [
    "print(np.max(x))       # finding maximum"
   ]
  },
  {
   "cell_type": "code",
   "execution_count": null,
   "id": "1d27feb8-5c6a-4be6-9cef-5cc5294e8afc",
   "metadata": {},
   "outputs": [],
   "source": []
  },
  {
   "cell_type": "code",
   "execution_count": null,
   "id": "4d3d8469-c2ef-482d-9d90-f2778be0e400",
   "metadata": {},
   "outputs": [],
   "source": [
    "# 4) Create a numpy array of length 10, starting from 5 and has a step of 3 between consecutive numbers.    2 points"
   ]
  },
  {
   "cell_type": "code",
   "execution_count": 42,
   "id": "4ff9ac72-b1d2-42a5-9607-77cc040f748a",
   "metadata": {},
   "outputs": [
    {
     "name": "stdout",
     "output_type": "stream",
     "text": [
      "[ 5  8 11 14 17 20 23 26 29 32]\n"
     ]
    }
   ],
   "source": [
    "x=np.arange(5,5+3*10,3)\n",
    "print(x)"
   ]
  },
  {
   "cell_type": "code",
   "execution_count": null,
   "id": "8a158771-96bc-4073-8818-61fa8f8a6ee7",
   "metadata": {},
   "outputs": [],
   "source": []
  },
  {
   "cell_type": "code",
   "execution_count": null,
   "id": "ade8d5bc-2cf9-4075-a694-6cae41789508",
   "metadata": {},
   "outputs": [],
   "source": [
    "# 5) Create a shape (10,10) array with arbitrary values; and find the memory size of this array.    1 point"
   ]
  },
  {
   "cell_type": "code",
   "execution_count": 50,
   "id": "b008e6e6-de97-4f17-bbc2-57156f8f3fd0",
   "metadata": {},
   "outputs": [
    {
     "data": {
      "text/plain": [
       "array([[0.17621717, 0.36989073, 0.12475032, 0.96196115, 0.26907842,\n",
       "        0.66590482, 0.71713438, 0.56980646, 0.50934286, 0.74858466],\n",
       "       [0.79049489, 0.51169491, 0.20602605, 0.68852174, 0.36117672,\n",
       "        0.49620407, 0.87646582, 0.17141693, 0.02318241, 0.90666171],\n",
       "       [0.76786895, 0.71747235, 0.41643688, 0.27159254, 0.12255972,\n",
       "        0.20115412, 0.58339754, 0.87911401, 0.28900634, 0.82490255],\n",
       "       [0.96951528, 0.83002211, 0.20934331, 0.76026009, 0.83500262,\n",
       "        0.12050297, 0.08751887, 0.29764958, 0.44170485, 0.84250331],\n",
       "       [0.28962837, 0.22690478, 0.32088214, 0.5716614 , 0.48837405,\n",
       "        0.1213804 , 0.27102199, 0.87511117, 0.5623516 , 0.5567107 ],\n",
       "       [0.76237197, 0.66474492, 0.72438958, 0.01357265, 0.51680836,\n",
       "        0.97492235, 0.72036973, 0.74591654, 0.81838026, 0.02126976],\n",
       "       [0.71151824, 0.16310604, 0.45949317, 0.86657514, 0.0221163 ,\n",
       "        0.88644885, 0.94931027, 0.40176982, 0.03377475, 0.58300715],\n",
       "       [0.73443751, 0.31110844, 0.29019132, 0.11099453, 0.89175673,\n",
       "        0.22215765, 0.28085778, 0.42195747, 0.42112525, 0.43389445],\n",
       "       [0.6882316 , 0.96580197, 0.66169709, 0.77707258, 0.81887217,\n",
       "        0.95097388, 0.96760873, 0.25856814, 0.67035112, 0.57577963],\n",
       "       [0.88338782, 0.40815546, 0.15714384, 0.86451438, 0.38281327,\n",
       "        0.08040823, 0.42752136, 0.05317012, 0.29335879, 0.78705998]])"
      ]
     },
     "execution_count": 50,
     "metadata": {},
     "output_type": "execute_result"
    }
   ],
   "source": [
    "x=np.random.rand(10,10)   #creating 10x10 arbitary array\n",
    "x"
   ]
  },
  {
   "cell_type": "code",
   "execution_count": 55,
   "id": "9fcb646a-dd45-40d1-aa5b-cd9597d80dda",
   "metadata": {},
   "outputs": [
    {
     "data": {
      "text/plain": [
       "800"
      ]
     },
     "execution_count": 55,
     "metadata": {},
     "output_type": "execute_result"
    }
   ],
   "source": [
    "x.nbytes  #Memory size of the array\n",
    "x.itemsize*x.size #alternate solution"
   ]
  },
  {
   "cell_type": "code",
   "execution_count": null,
   "id": "c14d3ff7-d747-47d1-b103-61db4191d294",
   "metadata": {},
   "outputs": [],
   "source": []
  },
  {
   "cell_type": "code",
   "execution_count": null,
   "id": "c49d09e5-0e64-4a80-b400-398097a01a62",
   "metadata": {},
   "outputs": [],
   "source": [
    "# 6) Create a 1-d array of size 10 with arbitrary values but the fifth value should be 5.    1 point"
   ]
  },
  {
   "cell_type": "code",
   "execution_count": 431,
   "id": "1708bf23-0c12-402d-b371-06ea70160785",
   "metadata": {},
   "outputs": [
    {
     "name": "stdout",
     "output_type": "stream",
     "text": [
      "[0.41182717 0.00785889 0.8335232  0.89881956 5.         0.60532874\n",
      " 0.24272405 0.55090647 0.71173452 0.78382516]\n"
     ]
    }
   ],
   "source": [
    "x=np.random.rand(10)   \n",
    "x[4] = 5\n",
    "print(x)"
   ]
  },
  {
   "cell_type": "code",
   "execution_count": null,
   "id": "17ea4269-8c96-4b1a-a5e0-090a5663f802",
   "metadata": {},
   "outputs": [],
   "source": []
  },
  {
   "cell_type": "code",
   "execution_count": null,
   "id": "83968698-8854-4250-a536-f6170fba4099",
   "metadata": {},
   "outputs": [],
   "source": [
    "# 7) Create an array with values ranging from 10 to 49 (included); and reverse it then (first element becomes last).    1 point"
   ]
  },
  {
   "cell_type": "code",
   "execution_count": 69,
   "id": "50513939-c9ac-4c87-965e-e1ed83c65789",
   "metadata": {},
   "outputs": [
    {
     "name": "stdout",
     "output_type": "stream",
     "text": [
      "[49 48 47 46 45 44 43 42 41 40 39 38 37 36 35 34 33 32 31 30 29 28 27 26\n",
      " 25 24 23 22 21 20 19 18 17 16 15 14 13 12 11 10]\n"
     ]
    }
   ],
   "source": [
    "x= np.arange(10,50)\n",
    "print(x[::-1])"
   ]
  },
  {
   "cell_type": "code",
   "execution_count": null,
   "id": "c85fac6d-8e4e-4239-b886-5abdc007714a",
   "metadata": {},
   "outputs": [],
   "source": []
  },
  {
   "cell_type": "code",
   "execution_count": null,
   "id": "7fc27e1b-db2a-4560-9fa2-90c9b1c12b14",
   "metadata": {},
   "outputs": [],
   "source": [
    "# 8) Use one line to create a 5x5 matrix with row values ranging from 0 to 4:           2 points"
   ]
  },
  {
   "cell_type": "code",
   "execution_count": 73,
   "id": "bf13f6d5-f42e-4324-bd46-c10715c34d2c",
   "metadata": {},
   "outputs": [
    {
     "name": "stdout",
     "output_type": "stream",
     "text": [
      "[[0. 1. 2. 3. 4.]\n",
      " [0. 1. 2. 3. 4.]\n",
      " [0. 1. 2. 3. 4.]\n",
      " [0. 1. 2. 3. 4.]\n",
      " [0. 1. 2. 3. 4.]]\n"
     ]
    }
   ],
   "source": [
    "x = np.zeros((5,5)) + np.arange(5)\n",
    "print(x)"
   ]
  },
  {
   "cell_type": "code",
   "execution_count": null,
   "id": "e2d5eb1f-1944-4c5c-8458-38aee473a778",
   "metadata": {},
   "outputs": [],
   "source": []
  },
  {
   "cell_type": "code",
   "execution_count": 425,
   "id": "dffd9008-f778-4dc4-b524-8b539649c450",
   "metadata": {},
   "outputs": [],
   "source": [
    "# 9) We have a 7x7 zero 2D array, please use one line code to get the following matrix:  2 points"
   ]
  },
  {
   "cell_type": "code",
   "execution_count": 423,
   "id": "e63d9e7d-c880-4434-b28d-e47356b655e6",
   "metadata": {},
   "outputs": [
    {
     "name": "stdout",
     "output_type": "stream",
     "text": [
      "[[0. 0. 0. 0. 0. 0. 0.]\n",
      " [0. 1. 1. 1. 1. 1. 0.]\n",
      " [0. 1. 1. 1. 1. 1. 0.]\n",
      " [0. 1. 1. 1. 1. 1. 0.]\n",
      " [0. 1. 1. 1. 1. 1. 0.]\n",
      " [0. 1. 1. 1. 1. 1. 0.]\n",
      " [0. 0. 0. 0. 0. 0. 0.]]\n"
     ]
    }
   ],
   "source": [
    "x = np.pad(np.ones((5,5)), [(1,1), (1,1)])  #using np.pad() function to pad array by padding around 5x5 np.ones array\n",
    "print(x)"
   ]
  },
  {
   "cell_type": "code",
   "execution_count": null,
   "id": "fbe4e4f0-2ee1-423e-83f1-aed501202d01",
   "metadata": {},
   "outputs": [],
   "source": []
  },
  {
   "cell_type": "code",
   "execution_count": null,
   "id": "452c5bc1-64cd-4a1f-bbd8-2b5906d952e1",
   "metadata": {},
   "outputs": [],
   "source": [
    "# 10). Create a 5x5 2-d array with values 1,2,3,4,5 on the diagonal. \n",
    "#        Then, make 1,2,3,4,5 move below the diagonal.            2 points"
   ]
  },
  {
   "cell_type": "code",
   "execution_count": 99,
   "id": "3d51f838-4d84-4e6e-bc9b-a613ca0768b6",
   "metadata": {},
   "outputs": [
    {
     "name": "stdout",
     "output_type": "stream",
     "text": [
      "[[1 0 0 0 0]\n",
      " [0 2 0 0 0]\n",
      " [0 0 3 0 0]\n",
      " [0 0 0 4 0]\n",
      " [0 0 0 0 5]]\n"
     ]
    }
   ],
   "source": [
    "x = np.diag([1,2,3,4,5]) #creating 5x5 array\n",
    "print(x)"
   ]
  },
  {
   "cell_type": "code",
   "execution_count": 100,
   "id": "6536e96e-b9cb-4b39-b6c2-fcad69629cab",
   "metadata": {},
   "outputs": [
    {
     "name": "stdout",
     "output_type": "stream",
     "text": [
      "[[0 0 0 0 0 0]\n",
      " [1 0 0 0 0 0]\n",
      " [0 2 0 0 0 0]\n",
      " [0 0 3 0 0 0]\n",
      " [0 0 0 4 0 0]\n",
      " [0 0 0 0 5 0]]\n"
     ]
    }
   ],
   "source": [
    "x = np.diag([1,2,3,4,5],-1) #moving it below diagonal\n",
    "print(x)"
   ]
  },
  {
   "cell_type": "code",
   "execution_count": null,
   "id": "8ac6226e-5604-4334-b14d-257c586b7e50",
   "metadata": {},
   "outputs": [],
   "source": []
  },
  {
   "cell_type": "code",
   "execution_count": null,
   "id": "4795bd52-3f1f-4d63-bfd6-bbdbf76d1db8",
   "metadata": {},
   "outputs": [],
   "source": [
    "# 11) Given a random array with shape(4,5) and values [0,1), please use this array to subtract its mean of each row. 2 points"
   ]
  },
  {
   "cell_type": "code",
   "execution_count": 402,
   "id": "a5014909-1de7-4619-9018-00539349d8fb",
   "metadata": {},
   "outputs": [
    {
     "name": "stdout",
     "output_type": "stream",
     "text": [
      "Array is:\n",
      "[[0.5992414  0.32556513 0.29087699 0.54626566 0.9359954 ]\n",
      " [0.63110398 0.50628287 0.82198988 0.30836744 0.23007017]\n",
      " [0.1703366  0.42895027 0.08852986 0.38305553 0.52012086]\n",
      " [0.95333504 0.91721114 0.13373734 0.91886977 0.90716388]]\n",
      "Result is:\n",
      "[[ 0.05965249 -0.21402379 -0.24871193  0.00667674  0.39640648]\n",
      " [ 0.13154111  0.00672     0.32242701 -0.19119542 -0.2694927 ]\n",
      " [-0.14786203  0.11075165 -0.22966876  0.06485691  0.20192223]\n",
      " [ 0.18727161  0.1511477  -0.6323261   0.15280634  0.14110045]]\n"
     ]
    }
   ],
   "source": [
    "x = np.random.rand(4,5)\n",
    "print('Array is:')\n",
    "print(x)\n",
    "mean = x.mean(axis=1, keepdims=True)\n",
    "result = x - mean\n",
    "print('Result is:')\n",
    "print(result)"
   ]
  },
  {
   "cell_type": "code",
   "execution_count": null,
   "id": "2257a694-1abc-4bf6-b650-0b91e0d96c62",
   "metadata": {},
   "outputs": [],
   "source": []
  },
  {
   "cell_type": "code",
   "execution_count": null,
   "id": "4da4ef05-02d5-479f-b077-f85a7af89e78",
   "metadata": {},
   "outputs": [],
   "source": [
    "#PART-2"
   ]
  },
  {
   "cell_type": "code",
   "execution_count": null,
   "id": "68ebf609-6e7b-431b-870e-bcaac4964825",
   "metadata": {},
   "outputs": [],
   "source": [
    "# 1) Find the index of 5th repetition of number 1 in the given array x.          4 points\n",
    "# x: [1, 2, 1, 1, 3, 4, 3, 1, 1, 2, 1, 1, 2]"
   ]
  },
  {
   "cell_type": "code",
   "execution_count": 122,
   "id": "c3edb76b-6c6e-4558-b0a2-f2c007e882a2",
   "metadata": {},
   "outputs": [
    {
     "name": "stdout",
     "output_type": "stream",
     "text": [
      "8\n"
     ]
    }
   ],
   "source": [
    "x = np.array([1, 2, 1, 1, 3, 4, 3, 1, 1, 2, 1, 1, 2])\n",
    "i =np.where(x == 1)[0][4]   # using numpy where() function\n",
    "print(i)"
   ]
  },
  {
   "cell_type": "code",
   "execution_count": null,
   "id": "98f0e63c-2760-4333-ae35-bbaa5de91c2e",
   "metadata": {},
   "outputs": [],
   "source": []
  },
  {
   "cell_type": "code",
   "execution_count": null,
   "id": "4882b678-7ec5-43a9-9009-549ce0d4e534",
   "metadata": {},
   "outputs": [],
   "source": [
    "# 2) Use np.arange to get an array [1, 2, 3, ..., 9]. Split x into 3 sub-arrays, the length of each sub-array is 4, 2, and 3    2 points"
   ]
  },
  {
   "cell_type": "code",
   "execution_count": 131,
   "id": "b4b12fc0-29d4-4918-957c-c0215e38ca5a",
   "metadata": {},
   "outputs": [
    {
     "name": "stdout",
     "output_type": "stream",
     "text": [
      "[array([1, 2, 3, 4]), array([5, 6]), array([7, 8, 9])]\n"
     ]
    }
   ],
   "source": [
    "x=np.arange(1,10)\n",
    "a=np.split(x,[4,6])\n",
    "print(a)"
   ]
  },
  {
   "cell_type": "code",
   "execution_count": null,
   "id": "09dd0586-b674-49b4-b706-1bdf99471e3e",
   "metadata": {},
   "outputs": [],
   "source": []
  },
  {
   "cell_type": "code",
   "execution_count": null,
   "id": "c3b93fa8-2026-4d66-aa7d-5d2dfbd22a04",
   "metadata": {},
   "outputs": [],
   "source": [
    "# 3) Use arange to generate the following 2D array:     2 points"
   ]
  },
  {
   "cell_type": "code",
   "execution_count": 133,
   "id": "a838679b-0a43-49d5-a73e-9a5e00c04c3b",
   "metadata": {},
   "outputs": [
    {
     "name": "stdout",
     "output_type": "stream",
     "text": [
      "[[ 0  1  2  3]\n",
      " [ 4  5  6  7]\n",
      " [ 8  9 10 11]\n",
      " [12 13 14 15]]\n"
     ]
    }
   ],
   "source": [
    "x=np.arange(16).reshape(4,4)   #Creating the array\n",
    "print(x)"
   ]
  },
  {
   "cell_type": "code",
   "execution_count": 135,
   "id": "f102cd47-9028-4984-a8d5-8ef25dfd91d1",
   "metadata": {},
   "outputs": [
    {
     "name": "stdout",
     "output_type": "stream",
     "text": [
      "[array([[ 0],\n",
      "       [ 4],\n",
      "       [ 8],\n",
      "       [12]]), array([[ 1,  2,  3],\n",
      "       [ 5,  6,  7],\n",
      "       [ 9, 10, 11],\n",
      "       [13, 14, 15]])]\n"
     ]
    }
   ],
   "source": [
    "a= np.split(x,[1],axis=1)  #Splitting the array\n",
    "print(a)"
   ]
  },
  {
   "cell_type": "code",
   "execution_count": null,
   "id": "407aba8c-fbaf-4fb7-9561-714af77bab92",
   "metadata": {},
   "outputs": [],
   "source": []
  },
  {
   "cell_type": "code",
   "execution_count": null,
   "id": "eb1473d9-d541-43df-99bc-09668cb9fc3b",
   "metadata": {},
   "outputs": [],
   "source": [
    "#4). Given a 2D array:                           6 points\n",
    "\n",
    "#    [[5,10,15],\n",
    "\n",
    "#    [20,25,30],\n",
    "\n",
    "#    [35,40,45]]\n",
    "\n",
    "#(1) Slicing to get the sub-array [[10,15],[25,30]] by regular indexing.           [2p]\n",
    "\n",
    "#(2) To get the above sub-array by fancy indexing.     [4p] "
   ]
  },
  {
   "cell_type": "code",
   "execution_count": 136,
   "id": "4b4666d2-68f7-42f1-b9ae-b2d64de30da1",
   "metadata": {},
   "outputs": [
    {
     "name": "stdout",
     "output_type": "stream",
     "text": [
      "[[ 5 10 15]\n",
      " [20 25 30]\n",
      " [35 40 45]]\n"
     ]
    }
   ],
   "source": [
    "x = np.array([[5,10,15],[20,25,30],[35,40,45]])\n",
    "print(x)"
   ]
  },
  {
   "cell_type": "code",
   "execution_count": 140,
   "id": "bc8d3f0e-2b35-46b8-b407-0dfaf76f9fe0",
   "metadata": {},
   "outputs": [
    {
     "name": "stdout",
     "output_type": "stream",
     "text": [
      "[[10 15]\n",
      " [25 30]]\n"
     ]
    }
   ],
   "source": [
    "print(x[:2,1:]) #Slicing"
   ]
  },
  {
   "cell_type": "code",
   "execution_count": 144,
   "id": "5ef2b019-63e8-4533-b6c9-d8add523787c",
   "metadata": {},
   "outputs": [
    {
     "name": "stdout",
     "output_type": "stream",
     "text": [
      "[[10 15]\n",
      " [25 30]]\n"
     ]
    }
   ],
   "source": [
    "row= np.array([[0,0],[1,1]])  #Fancy Indexing\n",
    "col= np.array([[1,2],[1,2]])\n",
    "print(x[row,col])"
   ]
  },
  {
   "cell_type": "code",
   "execution_count": null,
   "id": "ab02ebad-4779-4657-8101-c2a1eea454a4",
   "metadata": {},
   "outputs": [],
   "source": []
  },
  {
   "cell_type": "code",
   "execution_count": null,
   "id": "77f7ef69-55fd-4fc7-a07e-6a460715c5cd",
   "metadata": {},
   "outputs": [],
   "source": [
    "# 5) Concatenate x and y so that a new array looks like     1 point\n",
    "#    [[1, 2, 3, 7, 8, 9],\n",
    "#    [4, 5, 6, 10, 11, 12]]"
   ]
  },
  {
   "cell_type": "code",
   "execution_count": 150,
   "id": "12795bac-9dea-4638-8927-ff0ef0c0991f",
   "metadata": {},
   "outputs": [
    {
     "name": "stdout",
     "output_type": "stream",
     "text": [
      "[[ 1  2  3  7  8  9]\n",
      " [ 4  5  6 10 11 12]]\n"
     ]
    }
   ],
   "source": [
    "x= np.array([[ 1, 2 ,3],[ 4 ,5 ,6]])\n",
    "y= np.array([[ 7 ,8 ,9],[10 ,11 ,12]])\n",
    "z= np.concatenate((x,y),axis=1)\n",
    "print(z)"
   ]
  },
  {
   "cell_type": "code",
   "execution_count": null,
   "id": "6f0e1540-55c8-4d9f-8ad4-b299d58790eb",
   "metadata": {},
   "outputs": [],
   "source": []
  },
  {
   "cell_type": "code",
   "execution_count": null,
   "id": "66f48e90-5779-42fc-b3ed-0a67b5ba6f5b",
   "metadata": {},
   "outputs": [],
   "source": [
    "# 6) Given a 2D array with shape(5,3) and values [1,10), calculate the min/max (min is divided by max) for each row.   2 point"
   ]
  },
  {
   "cell_type": "code",
   "execution_count": 151,
   "id": "4906e310-b153-4034-b558-e1e96a356b9d",
   "metadata": {},
   "outputs": [
    {
     "name": "stdout",
     "output_type": "stream",
     "text": [
      "[[0.6378259 ]\n",
      " [0.14067574]\n",
      " [0.11084006]\n",
      " [0.23470357]\n",
      " [0.44647271]]\n"
     ]
    }
   ],
   "source": [
    "rng=np.random.default_rng(seed=5)\n",
    "x= rng.random((5,3))\n",
    "minimum = np.min(x, axis=1, keepdims=True)\n",
    "maximum = np.max(x, axis=1, keepdims=True)\n",
    "final = minimum/maximum\n",
    "print(final)"
   ]
  },
  {
   "cell_type": "code",
   "execution_count": null,
   "id": "b2606ad4-b6c3-49d1-8ca1-fe162ce72126",
   "metadata": {},
   "outputs": [],
   "source": []
  },
  {
   "cell_type": "code",
   "execution_count": null,
   "id": "3d0466c8-ffa1-42c0-989d-dc5e4d11fc24",
   "metadata": {},
   "outputs": [],
   "source": [
    "# 7) Normalize a 5x5 random 2D array along column:             2 point"
   ]
  },
  {
   "cell_type": "code",
   "execution_count": 394,
   "id": "5400222d-adf4-490c-b3c1-fbe0c076b940",
   "metadata": {},
   "outputs": [
    {
     "name": "stdout",
     "output_type": "stream",
     "text": [
      "[[ 0.19068601  1.01867216 -1.13369318 -0.45876672 -0.51445037]\n",
      " [-1.70243232 -0.03275065  0.56990117 -0.11293762  1.52862608]\n",
      " [ 1.08019285 -0.33797685  0.07367905  0.97746047  0.31628107]\n",
      " [-0.33418865 -1.02222158  0.92528573  0.74114356 -1.41071349]\n",
      " [ 0.76574211  0.37427691 -0.43517278 -1.1468997   0.08025671]]\n"
     ]
    }
   ],
   "source": [
    "x = np.random.rand(5,5)\n",
    "mean = np.mean(x, axis=0)\n",
    "numerator= x - mean\n",
    "denominator= np.std(normalization, axis=0)\n",
    "normalization = numerator / denominator\n",
    "print(normalization)"
   ]
  },
  {
   "cell_type": "code",
   "execution_count": null,
   "id": "abb8a3de-9351-4ba4-8d01-f284f173591f",
   "metadata": {},
   "outputs": [],
   "source": []
  },
  {
   "cell_type": "code",
   "execution_count": 155,
   "id": "db1592a6-016d-487b-b255-d356b0fa1629",
   "metadata": {},
   "outputs": [],
   "source": [
    "# 8) Given a 1D random integer array within 100 with the size 20, get all items between 15 and 55, [15, 55].       4 points"
   ]
  },
  {
   "cell_type": "code",
   "execution_count": 392,
   "id": "80d5f56a-f2ad-4aa3-b33f-6dd3203bae63",
   "metadata": {},
   "outputs": [
    {
     "name": "stdout",
     "output_type": "stream",
     "text": [
      "[28 36 46 53 23 40 42 36 51]\n"
     ]
    }
   ],
   "source": [
    "x = np.random.randint(0, 100, 20)\n",
    "result = x[(x >= 15) & (x <= 55)]\n",
    "print(result)"
   ]
  },
  {
   "cell_type": "code",
   "execution_count": null,
   "id": "932cab1d-43f4-4241-9543-7779d17319a1",
   "metadata": {},
   "outputs": [],
   "source": []
  },
  {
   "cell_type": "code",
   "execution_count": null,
   "id": "4259f78a-f802-453a-9a6e-8eb474dd8243",
   "metadata": {},
   "outputs": [],
   "source": [
    "# 9) Use arange() to create a 1D array from 0 to 20, [0,20) and replace all odd numbers with -1:                2 points"
   ]
  },
  {
   "cell_type": "code",
   "execution_count": 163,
   "id": "81feb493-0b4a-412d-b79d-1f2eda9e5e21",
   "metadata": {},
   "outputs": [
    {
     "name": "stdout",
     "output_type": "stream",
     "text": [
      "[ 0 -1  2 -1  4 -1  6 -1  8 -1 10 -1 12 -1 14 -1 16 -1 18 -1]\n"
     ]
    }
   ],
   "source": [
    "x= np.arange(20)\n",
    "x[x % 2 != 0] = -1\n",
    "print(x)"
   ]
  },
  {
   "cell_type": "code",
   "execution_count": null,
   "id": "00fb99c2-44c4-4bf0-97e0-ac00f869dc0c",
   "metadata": {},
   "outputs": [],
   "source": []
  },
  {
   "cell_type": "code",
   "execution_count": null,
   "id": "6a662da5-ef8a-48c9-8dae-6117d34d42de",
   "metadata": {},
   "outputs": [],
   "source": [
    "# 10) Use random number generator to create a 4D array with shape(3,4,3,4) and values [0,10); then do the sum over the last two axes. 4 points"
   ]
  },
  {
   "cell_type": "code",
   "execution_count": 171,
   "id": "2a9370f6-6e69-413a-8eb2-9a2261bc6067",
   "metadata": {},
   "outputs": [
    {
     "name": "stdout",
     "output_type": "stream",
     "text": [
      "[[[[6 3 9 7]\n",
      "   [6 3 0 4]\n",
      "   [1 6 3 1]]\n",
      "\n",
      "  [[5 6 8 2]\n",
      "   [6 4 0 6]\n",
      "   [5 1 8 5]]\n",
      "\n",
      "  [[4 3 2 8]\n",
      "   [4 2 7 4]\n",
      "   [0 6 5 9]]\n",
      "\n",
      "  [[3 9 6 8]\n",
      "   [4 1 5 6]\n",
      "   [9 0 1 5]]]\n",
      "\n",
      "\n",
      " [[[3 3 9 5]\n",
      "   [4 7 8 3]\n",
      "   [3 3 9 4]]\n",
      "\n",
      "  [[9 5 9 2]\n",
      "   [8 4 3 8]\n",
      "   [5 3 4 1]]\n",
      "\n",
      "  [[5 7 1 7]\n",
      "   [5 2 4 4]\n",
      "   [0 2 8 5]]\n",
      "\n",
      "  [[8 3 5 5]\n",
      "   [9 1 6 1]\n",
      "   [4 1 5 3]]]\n",
      "\n",
      "\n",
      " [[[6 9 1 6]\n",
      "   [6 1 3 3]\n",
      "   [5 7 7 3]]\n",
      "\n",
      "  [[4 3 6 6]\n",
      "   [3 8 9 2]\n",
      "   [6 8 5 3]]\n",
      "\n",
      "  [[8 9 8 4]\n",
      "   [0 0 7 7]\n",
      "   [7 3 2 5]]\n",
      "\n",
      "  [[9 6 8 3]\n",
      "   [6 3 3 1]\n",
      "   [6 1 5 7]]]]\n"
     ]
    }
   ],
   "source": [
    "x = np.random.randint(0,10,size=(3,4,3,4)) #creating array\n",
    "print(x)"
   ]
  },
  {
   "cell_type": "code",
   "execution_count": 174,
   "id": "ced6b520-b130-4d53-88b3-8ff0ed3f584f",
   "metadata": {},
   "outputs": [
    {
     "name": "stdout",
     "output_type": "stream",
     "text": [
      "[[49 56 54 57]\n",
      " [61 61 50 51]\n",
      " [57 63 60 58]]\n"
     ]
    }
   ],
   "source": [
    "axes = x.sum(axis=(-2, -1)) #sum over last 2 axes\n",
    "print(axes)"
   ]
  },
  {
   "cell_type": "code",
   "execution_count": null,
   "id": "7a586e31-f80f-4367-ae88-73fd38dcea9e",
   "metadata": {},
   "outputs": [],
   "source": []
  },
  {
   "cell_type": "code",
   "execution_count": 175,
   "id": "eff4453b-875b-4460-b39d-5a5bd7b991d1",
   "metadata": {},
   "outputs": [],
   "source": [
    "#PART-3"
   ]
  },
  {
   "cell_type": "code",
   "execution_count": null,
   "id": "a42988f3-2d57-4bed-b04d-977c51d3fa6a",
   "metadata": {},
   "outputs": [],
   "source": [
    "# 1) Given a 1d array: [ 3, 6, 9, 25, 10, 8]                      4 points"
   ]
  },
  {
   "cell_type": "code",
   "execution_count": null,
   "id": "71a74977-a314-4a6c-82a6-e8a13d8234c1",
   "metadata": {},
   "outputs": [],
   "source": [
    "# (1) To get all elements except the first:"
   ]
  },
  {
   "cell_type": "code",
   "execution_count": 176,
   "id": "e8b8e5f8-0d79-4446-9f36-0810d35c0ef5",
   "metadata": {},
   "outputs": [
    {
     "name": "stdout",
     "output_type": "stream",
     "text": [
      "[ 6  9 25 10  8]\n"
     ]
    }
   ],
   "source": [
    "x= np.array([ 3, 6, 9, 25, 10, 8])\n",
    "print(x[1:])"
   ]
  },
  {
   "cell_type": "code",
   "execution_count": null,
   "id": "4cf98777-0a9c-4607-9625-4c365526c4a0",
   "metadata": {},
   "outputs": [],
   "source": [
    "# (2) To get all elements except the last:"
   ]
  },
  {
   "cell_type": "code",
   "execution_count": 177,
   "id": "0a23c632-7141-47b3-9d01-fb3f93624abf",
   "metadata": {},
   "outputs": [
    {
     "name": "stdout",
     "output_type": "stream",
     "text": [
      "[ 3  6  9 25 10]\n"
     ]
    }
   ],
   "source": [
    "x= np.array([ 3, 6, 9, 25, 10, 8])\n",
    "print(x[:-1])"
   ]
  },
  {
   "cell_type": "code",
   "execution_count": null,
   "id": "f7086775-3c6c-47c6-97f0-d62fac998431",
   "metadata": {},
   "outputs": [],
   "source": [
    "# (3) To get every other element of the array (operation from the first element):"
   ]
  },
  {
   "cell_type": "code",
   "execution_count": 178,
   "id": "4015dc4b-a4f7-459e-9459-3ab9562f22fd",
   "metadata": {},
   "outputs": [
    {
     "name": "stdout",
     "output_type": "stream",
     "text": [
      "[ 3  9 10]\n"
     ]
    }
   ],
   "source": [
    "x= np.array([ 3, 6, 9, 25, 10, 8])\n",
    "print(x[::2])"
   ]
  },
  {
   "cell_type": "code",
   "execution_count": null,
   "id": "aec4a251-a9d5-49d9-a863-992c772f5a8c",
   "metadata": {},
   "outputs": [],
   "source": [
    "# (4) To reverse the array:"
   ]
  },
  {
   "cell_type": "code",
   "execution_count": 179,
   "id": "5bce2555-289b-4119-a124-5af969c00dd1",
   "metadata": {},
   "outputs": [
    {
     "name": "stdout",
     "output_type": "stream",
     "text": [
      "[ 8 10 25  9  6  3]\n"
     ]
    }
   ],
   "source": [
    "x= np.array([ 3, 6, 9, 25, 10, 8])\n",
    "print(x[::-1])"
   ]
  },
  {
   "cell_type": "code",
   "execution_count": null,
   "id": "01482a23-aac2-456b-bbc3-f730d7cbe8a8",
   "metadata": {},
   "outputs": [],
   "source": []
  },
  {
   "cell_type": "code",
   "execution_count": null,
   "id": "e6e7d04c-8040-4ffc-900c-efa0300edaef",
   "metadata": {},
   "outputs": [],
   "source": [
    "# 2) Multidimensional Arrays:               4 points"
   ]
  },
  {
   "cell_type": "code",
   "execution_count": null,
   "id": "dd1a1dca-fe43-4c18-a3f0-25e8c39d35e0",
   "metadata": {},
   "outputs": [],
   "source": [
    "# (1) create a 2D array with shape(8,4) and values [0,32)."
   ]
  },
  {
   "cell_type": "code",
   "execution_count": 191,
   "id": "33887475-04c1-428f-90ab-0929cbb00be4",
   "metadata": {},
   "outputs": [
    {
     "name": "stdout",
     "output_type": "stream",
     "text": [
      "[[ 0  1  2  3]\n",
      " [ 4  5  6  7]\n",
      " [ 8  9 10 11]\n",
      " [12 13 14 15]\n",
      " [16 17 18 19]\n",
      " [20 21 22 23]\n",
      " [24 25 26 27]\n",
      " [28 29 30 31]]\n"
     ]
    }
   ],
   "source": [
    "x = np.arange(0,32).reshape(8,4)\n",
    "print(x)"
   ]
  },
  {
   "cell_type": "code",
   "execution_count": 185,
   "id": "2ca8ca9a-4a43-42c7-8776-3840cb703279",
   "metadata": {},
   "outputs": [],
   "source": [
    "# (2) set the 3rd element in the 1st row to 0."
   ]
  },
  {
   "cell_type": "code",
   "execution_count": 192,
   "id": "d516d71d-dc33-403f-9f5a-181aec68401e",
   "metadata": {},
   "outputs": [
    {
     "name": "stdout",
     "output_type": "stream",
     "text": [
      "[[ 0  1  0  3]\n",
      " [ 4  5  6  7]\n",
      " [ 8  9 10 11]\n",
      " [12 13 14 15]\n",
      " [16 17 18 19]\n",
      " [20 21 22 23]\n",
      " [24 25 26 27]\n",
      " [28 29 30 31]]\n"
     ]
    }
   ],
   "source": [
    "x[0,2] = 0\n",
    "print(x)"
   ]
  },
  {
   "cell_type": "code",
   "execution_count": null,
   "id": "479844cc-a063-4c4f-b921-5fe1a964a1b4",
   "metadata": {},
   "outputs": [],
   "source": [
    "# (3) print out the second column"
   ]
  },
  {
   "cell_type": "code",
   "execution_count": 193,
   "id": "2c5951f8-0b25-4c6a-9f93-fad5356860d3",
   "metadata": {},
   "outputs": [
    {
     "name": "stdout",
     "output_type": "stream",
     "text": [
      "[ 1  5  9 13 17 21 25 29]\n"
     ]
    }
   ],
   "source": [
    "print(x[:, 1])"
   ]
  },
  {
   "cell_type": "code",
   "execution_count": null,
   "id": "865b090f-6461-4196-8c2e-ad591fbd1287",
   "metadata": {},
   "outputs": [],
   "source": [
    "# (4) Get the 3x3 region from the array:"
   ]
  },
  {
   "cell_type": "code",
   "execution_count": 195,
   "id": "e1cbd559-3a13-450a-8e85-6c157cb4ac81",
   "metadata": {},
   "outputs": [
    {
     "name": "stdout",
     "output_type": "stream",
     "text": [
      "[[ 9 10 11]\n",
      " [13 14 15]\n",
      " [17 18 19]]\n"
     ]
    }
   ],
   "source": [
    "print(x[2:5,1:])"
   ]
  },
  {
   "cell_type": "code",
   "execution_count": null,
   "id": "a225dada-b936-4358-bab3-670566488680",
   "metadata": {},
   "outputs": [],
   "source": []
  },
  {
   "cell_type": "code",
   "execution_count": null,
   "id": "016ac1eb-8b96-4d91-8352-73740c574258",
   "metadata": {},
   "outputs": [],
   "source": [
    "#3) Create an 4x4 matrix in which 0 and 1 are staggered, with zeros on the main diagonal. Please use the NumPy \"slicing\" method to realize.                4 points"
   ]
  },
  {
   "cell_type": "code",
   "execution_count": 204,
   "id": "af27c8b6-b3f6-49a7-9b0b-b10c27e592ec",
   "metadata": {},
   "outputs": [
    {
     "name": "stdout",
     "output_type": "stream",
     "text": [
      "[[0. 1. 0. 1.]\n",
      " [1. 0. 1. 0.]\n",
      " [0. 1. 0. 1.]\n",
      " [1. 0. 1. 0.]]\n"
     ]
    }
   ],
   "source": [
    "x = np.zeros((4, 4))\n",
    "x[::2, 1::2] = 1 #row (0,2) and column(1,3)\n",
    "x[1::2, ::2] = 1 #row(1,3) and column(0,2)\n",
    "print(x)"
   ]
  },
  {
   "cell_type": "code",
   "execution_count": null,
   "id": "ca28c11f-1eee-4b27-8efb-e235b1adb64d",
   "metadata": {},
   "outputs": [],
   "source": []
  },
  {
   "cell_type": "code",
   "execution_count": null,
   "id": "209a2fc2-f24b-411e-ab0e-53b116a51ce1",
   "metadata": {},
   "outputs": [],
   "source": [
    "# 4) Given a 2D array with shape(6,4) and values [0,20), please use fancy indexing to exchange the first row and the last row:  3 points"
   ]
  },
  {
   "cell_type": "code",
   "execution_count": 390,
   "id": "322d7e9f-927d-41c2-994b-fd5da29847fb",
   "metadata": {},
   "outputs": [
    {
     "name": "stdout",
     "output_type": "stream",
     "text": [
      "Original array:\n",
      "[[ 5 16 13 19]\n",
      " [16  5  4 13]\n",
      " [15  1  6 10]\n",
      " [10  8 18  9]\n",
      " [ 9 19  3 16]\n",
      " [ 4  4 14 11]]\n",
      "Swapped array:\n",
      "[[ 4  4 14 11]\n",
      " [16  5  4 13]\n",
      " [15  1  6 10]\n",
      " [10  8 18  9]\n",
      " [ 9 19  3 16]\n",
      " [ 5 16 13 19]]\n"
     ]
    }
   ],
   "source": [
    "x = np.random.randint(0, 20, size=(6, 4))\n",
    "print('Original array:')\n",
    "print(x)\n",
    "index = [0, -1]\n",
    "rfirst = x[index[0], :]\n",
    "rlast = x[index[1], :]\n",
    "x[index] = [rlast, rfirst]\n",
    "print('Swapped array:')\n",
    "print(x)"
   ]
  },
  {
   "cell_type": "code",
   "execution_count": null,
   "id": "55b42a00-052d-46fa-8938-a78a10886072",
   "metadata": {},
   "outputs": [],
   "source": []
  },
  {
   "cell_type": "code",
   "execution_count": null,
   "id": "42240168-7b75-4f60-835d-85e7796ad733",
   "metadata": {},
   "outputs": [],
   "source": [
    "#PART-4"
   ]
  },
  {
   "cell_type": "code",
   "execution_count": null,
   "id": "5de02f36-eaa1-4a36-925f-3a0e44e05bd6",
   "metadata": {},
   "outputs": [],
   "source": [
    "# by using numpy approach (3 points)"
   ]
  },
  {
   "cell_type": "code",
   "execution_count": 247,
   "id": "1a54645b-5092-42a0-aa9d-6e4ffe81b89d",
   "metadata": {},
   "outputs": [
    {
     "name": "stdout",
     "output_type": "stream",
     "text": [
      "[[ 1  2  3  4  5  6]\n",
      " [ 2  4  6  8 10 12]\n",
      " [ 3  6  9 12 15 18]\n",
      " [ 4  8 12 16 20 24]\n",
      " [ 5 10 15 20 25 30]\n",
      " [ 6 12 18 24 30 36]]\n"
     ]
    }
   ],
   "source": [
    "x = np.arange(1, 7)\n",
    "result = x[:, np.newaxis] * x\n",
    "print(result)"
   ]
  },
  {
   "cell_type": "code",
   "execution_count": null,
   "id": "4803d8f2-3ace-4f41-9ac8-9fcff5072f52",
   "metadata": {},
   "outputs": [],
   "source": [
    "# by using Python nested for-loop (3 points)"
   ]
  },
  {
   "cell_type": "code",
   "execution_count": 252,
   "id": "6e7d3690-aa8a-4821-aa92-fc9bd4f3da61",
   "metadata": {},
   "outputs": [
    {
     "name": "stdout",
     "output_type": "stream",
     "text": [
      "[[ 1  2  3  4  5  6]\n",
      " [ 2  4  6  8 10 12]\n",
      " [ 3  6  9 12 15 18]\n",
      " [ 4  8 12 16 20 24]\n",
      " [ 5 10 15 20 25 30]\n",
      " [ 6 12 18 24 30 36]]\n"
     ]
    }
   ],
   "source": [
    "x = [[0 for m in range(6)] for n in range(6)]\n",
    "for n in range(6):   #nested for-loops\n",
    "    for m in range(6):\n",
    "        x[n][m] = (n + 1) * (m + 1)\n",
    "result = np.array(x)\n",
    "print(result)"
   ]
  },
  {
   "cell_type": "code",
   "execution_count": null,
   "id": "e4ad2052-a6a3-43c5-a1d5-080a91b6dffc",
   "metadata": {},
   "outputs": [],
   "source": []
  },
  {
   "cell_type": "code",
   "execution_count": null,
   "id": "b7873ac8-e443-4081-91bb-1ddae2901f2f",
   "metadata": {},
   "outputs": [],
   "source": [
    "#2). Given a 1D array from random number generator with values within 1000 and size 100, please use argsort() and argpartition() to respectively get the 5 largest values of this array X.             6 points"
   ]
  },
  {
   "cell_type": "code",
   "execution_count": 382,
   "id": "458146f1-8f8d-4136-a1d0-5801de21e4b1",
   "metadata": {},
   "outputs": [
    {
     "name": "stdout",
     "output_type": "stream",
     "text": [
      "[967 968 970 977 990]\n",
      "[967 968 970 977 990]\n"
     ]
    }
   ],
   "source": [
    "\n",
    "x = np.random.randint(1000, size=100)\n",
    "\n",
    "#5 largest values of x using argsort()\n",
    "Isorted = np.argsort(x)\n",
    "largeargsort = Isorted[-5:]\n",
    "largest5sort = x[largeargsort]\n",
    "print(largest5sort)\n",
    "\n",
    "#5 largest values of x using argpartition()\n",
    "Ipartition = np.argpartition(x, -5)[-5:]\n",
    "largest5part = x[Ipartition]\n",
    "print(largest5part)\n"
   ]
  },
  {
   "cell_type": "code",
   "execution_count": null,
   "id": "9e1b0c13-f894-450a-8ac8-238eb36868c5",
   "metadata": {},
   "outputs": [],
   "source": []
  },
  {
   "cell_type": "code",
   "execution_count": null,
   "id": "98a1104b-2449-44b4-87a2-13ce1d2ee37a",
   "metadata": {},
   "outputs": [],
   "source": [
    "#PART-5"
   ]
  },
  {
   "cell_type": "code",
   "execution_count": 321,
   "id": "feb5f368-9fb3-47f5-ae6f-9d54eb84ef07",
   "metadata": {},
   "outputs": [],
   "source": [
    "import pandas as pd\n",
    "\n",
    "rain = pd.read_csv('hw1_rain.csv')['PRCP'].values\n",
    "\n",
    "rainin = rain / 254.0   # convert mm to inches\n"
   ]
  },
  {
   "cell_type": "code",
   "execution_count": 322,
   "id": "c5769ea9-075d-49ce-ae4a-465b5d368074",
   "metadata": {},
   "outputs": [
    {
     "name": "stdout",
     "output_type": "stream",
     "text": [
      "[0.         0.16141732 0.05905512 0.         0.         0.01181102\n",
      " 0.48031496 0.38188976 0.22834646 0.16929134 0.83858268 0.05905512\n",
      " 0.         0.         0.         0.         0.         0.\n",
      " 0.         0.         0.         0.01968504 0.         0.\n",
      " 0.         0.         0.         0.3503937  0.8503937  0.\n",
      " 0.09055118 0.07874016 0.         0.         0.         0.\n",
      " 0.         0.         0.2007874  0.01968504 0.72047244 0.66929134\n",
      " 0.18110236 0.07086614 0.37007874 0.46062992 1.03937008 0.57086614\n",
      " 0.5984252  0.03937008 0.11811024 0.11023622 0.0984252  0.24015748\n",
      " 0.51181102 0.01181102 0.         0.         0.         0.01968504\n",
      " 0.7519685  0.42125984 0.6496063  1.83858268 0.11811024 0.\n",
      " 1.27165354 0.16929134 0.74015748 0.         0.         0.01968504\n",
      " 0.27165354 0.31889764 1.09055118 0.01181102 0.         0.01968504\n",
      " 0.         0.         0.         0.         0.         0.16141732\n",
      " 0.14173228 0.01181102 0.87007874 0.5511811  0.         0.\n",
      " 0.         0.         0.0984252  0.         0.18110236 0.\n",
      " 0.         0.18110236 0.         0.         0.         0.\n",
      " 0.         0.         0.01968504 0.42913386 0.72834646 0.\n",
      " 0.53937008 0.         0.2007874  0.55905512 0.3503937  0.48818898\n",
      " 0.         0.12992126 0.27165354 0.         0.         0.\n",
      " 0.         0.         1.31102362 0.62992126 0.2007874  0.\n",
      " 0.         0.53937008 0.07874016 0.01968504 0.         0.\n",
      " 0.         0.         0.         0.         0.         0.\n",
      " 0.         0.         0.         0.         0.1496063  0.\n",
      " 0.22047244 0.         0.         0.         0.         0.\n",
      " 0.         0.         0.         0.         0.         0.\n",
      " 0.         0.         0.         0.         0.         0.\n",
      " 0.07086614 0.2519685  0.         0.01968504 0.14173228 0.0511811\n",
      " 0.         0.03149606 0.01181102 0.         0.         0.\n",
      " 0.         0.         0.         0.07086614 0.09055118 0.\n",
      " 0.         0.         0.         0.         0.         0.\n",
      " 0.         0.         0.         0.         0.         0.\n",
      " 0.         0.         0.         0.         0.         0.\n",
      " 0.         0.         0.         0.         0.01181102 0.75984252\n",
      " 0.         0.         0.         0.         0.         0.\n",
      " 0.         0.         0.         0.01968504 0.         0.\n",
      " 0.         0.         0.         0.         0.         0.\n",
      " 0.01968504 0.5        0.8503937  0.         0.03937008 0.\n",
      " 0.         0.         0.         0.         0.         0.\n",
      " 0.         0.         0.         0.         0.         0.\n",
      " 0.         0.33070866 0.0511811  0.         0.11811024 0.\n",
      " 0.         0.         0.         0.         0.         0.\n",
      " 0.         0.         0.         0.         0.         0.\n",
      " 0.         0.01968504 0.01181102 0.         0.         0.\n",
      " 0.01181102 0.72047244 0.7992126  0.16929134 0.3503937  0.\n",
      " 0.         0.03149606 0.         0.         0.         0.\n",
      " 0.         0.         0.         0.         0.         0.\n",
      " 0.01181102 0.29133858 0.         0.2992126  0.27952756 0.33858268\n",
      " 0.         0.12992126 0.59055118 0.         0.46062992 0.03937008\n",
      " 1.25984252 0.37007874 0.16141732 0.24015748 0.05905512 0.03149606\n",
      " 0.5        0.01968504 1.         0.66929134 0.         0.07086614\n",
      " 0.42913386 0.16141732 0.18897638 0.16141732 0.         0.\n",
      " 0.2007874  0.         0.         0.         0.         0.\n",
      " 0.         0.         0.         0.         0.         0.14173228\n",
      " 0.5984252  0.01968504 0.46850394 0.0511811  0.72047244 0.01181102\n",
      " 0.12992126 1.3503937  0.14173228 0.         0.         0.\n",
      " 0.         0.03149606 0.11811024 0.29133858 0.         0.35826772\n",
      " 0.38976378 0.51181102 0.27165354 0.         0.         0.\n",
      " 0.         0.         0.11023622 0.51181102 0.11811024 0.77165354\n",
      " 0.         0.         0.81102362 0.20866142 0.         0.\n",
      " 0.12992126 0.16141732 0.         0.         0.        ]\n"
     ]
    }
   ],
   "source": [
    "print(rainin)"
   ]
  },
  {
   "cell_type": "code",
   "execution_count": null,
   "id": "4e6cedfb-2c8f-4355-b477-f4ca19c13c34",
   "metadata": {},
   "outputs": [],
   "source": []
  },
  {
   "cell_type": "code",
   "execution_count": 314,
   "id": "2d887aea-3f19-4106-9b83-4082e904d132",
   "metadata": {},
   "outputs": [],
   "source": [
    "# Calculate the number of days without rain.     2 points"
   ]
  },
  {
   "cell_type": "code",
   "execution_count": 323,
   "id": "28e94fb9-940a-4c98-a389-5e2301fac014",
   "metadata": {},
   "outputs": [
    {
     "name": "stdout",
     "output_type": "stream",
     "text": [
      "Number of days without rain: 215\n"
     ]
    }
   ],
   "source": [
    "a = (rainin == 0).sum()\n",
    "print(\"Number of days without rain:\", a)"
   ]
  },
  {
   "cell_type": "code",
   "execution_count": null,
   "id": "98e7b16b-d44c-48eb-a68c-fc5382d75177",
   "metadata": {},
   "outputs": [],
   "source": []
  },
  {
   "cell_type": "code",
   "execution_count": null,
   "id": "47561102-6834-476e-ba7c-716f2d7df044",
   "metadata": {},
   "outputs": [],
   "source": [
    "# Calculate the number of days with rain.        2 points"
   ]
  },
  {
   "cell_type": "code",
   "execution_count": 432,
   "id": "a470ca5d-fd84-4cab-ba7b-ce860646499b",
   "metadata": {},
   "outputs": [
    {
     "name": "stdout",
     "output_type": "stream",
     "text": [
      "Number of days with rain: 150\n"
     ]
    }
   ],
   "source": [
    "a = (rainin > 0).sum()\n",
    "print(\"Number of days with rain:\", a)"
   ]
  },
  {
   "cell_type": "code",
   "execution_count": null,
   "id": "ee42b94d-f6d7-4e4f-ad07-e95fa28e30e5",
   "metadata": {},
   "outputs": [],
   "source": []
  },
  {
   "cell_type": "code",
   "execution_count": null,
   "id": "379e5653-6f2a-42ae-90a3-b033f4075908",
   "metadata": {},
   "outputs": [],
   "source": [
    "#Calculate the number of days more than 0.5 inches rainfall.   2 points"
   ]
  },
  {
   "cell_type": "code",
   "execution_count": 326,
   "id": "38823404-6c62-4955-ae21-e11fd45cbcf5",
   "metadata": {},
   "outputs": [
    {
     "name": "stdout",
     "output_type": "stream",
     "text": [
      "Number of days with more than 0.5 inches rainfall: 37\n"
     ]
    }
   ],
   "source": [
    "a = (rainin > 0.5).sum()\n",
    "print(\"Number of days with more than 0.5 inches rainfall:\", a)"
   ]
  },
  {
   "cell_type": "code",
   "execution_count": null,
   "id": "f85ef6e7-5108-4019-89aa-bdcb512d0f5e",
   "metadata": {},
   "outputs": [],
   "source": []
  },
  {
   "cell_type": "code",
   "execution_count": 291,
   "id": "3cc065dc-372d-4757-80c5-6d79f9cb9d1f",
   "metadata": {},
   "outputs": [],
   "source": [
    "#Calculate the number of days with rainfall between 0.5 and 1.0 inches   2 points"
   ]
  },
  {
   "cell_type": "code",
   "execution_count": 325,
   "id": "00f85c28-ff4d-4ff8-bd04-062cc1e733c6",
   "metadata": {},
   "outputs": [
    {
     "name": "stdout",
     "output_type": "stream",
     "text": [
      "Number of days with rainfall between 0.5 and 1.0 inches: 32\n"
     ]
    }
   ],
   "source": [
    "a = ((rainin >= 0.5) & (rainin <= 1.0)).sum()\n",
    "print(\"Number of days with rainfall between 0.5 and 1.0 inches:\", a)"
   ]
  },
  {
   "cell_type": "code",
   "execution_count": null,
   "id": "00278a90-9f15-4a18-9e26-74cd8d808659",
   "metadata": {},
   "outputs": [],
   "source": []
  },
  {
   "cell_type": "code",
   "execution_count": null,
   "id": "340c4e6c-fd7b-4a29-a4bb-5323246715e8",
   "metadata": {},
   "outputs": [],
   "source": [
    "#Construct a mask of all rainy days.  3 points"
   ]
  },
  {
   "cell_type": "code",
   "execution_count": 335,
   "id": "4bfc0bb4-bde5-4343-bc4f-3609c326b6a4",
   "metadata": {},
   "outputs": [
    {
     "name": "stdout",
     "output_type": "stream",
     "text": [
      "[False  True  True False False  True  True  True  True  True  True  True\n",
      " False False False False False False False False False  True False False\n",
      " False False False  True  True False  True  True False False False False\n",
      " False False  True  True  True  True  True  True  True  True  True  True\n",
      "  True  True  True  True  True  True  True  True False False False  True\n",
      "  True  True  True  True  True False  True  True  True False False  True\n",
      "  True  True  True  True False  True False False False False False  True\n",
      "  True  True  True  True False False False False  True False  True False\n",
      " False  True False False False False False False  True  True  True False\n",
      "  True False  True  True  True  True False  True  True False False False\n",
      " False False  True  True  True False False  True  True  True False False\n",
      " False False False False False False False False False False  True False\n",
      "  True False False False False False False False False False False False\n",
      " False False False False False False  True  True False  True  True  True\n",
      " False  True  True False False False False False False  True  True False\n",
      " False False False False False False False False False False False False\n",
      " False False False False False False False False False False  True  True\n",
      " False False False False False False False False False  True False False\n",
      " False False False False False False  True  True  True False  True False\n",
      " False False False False False False False False False False False False\n",
      " False  True  True False  True False False False False False False False\n",
      " False False False False False False False  True  True False False False\n",
      "  True  True  True  True  True False False  True False False False False\n",
      " False False False False False False  True  True False  True  True  True\n",
      " False  True  True False  True  True  True  True  True  True  True  True\n",
      "  True  True  True  True False  True  True  True  True  True False False\n",
      "  True False False False False False False False False False False  True\n",
      "  True  True  True  True  True  True  True  True  True False False False\n",
      " False  True  True  True False  True  True  True  True False False False\n",
      " False False  True  True  True  True False False  True  True False False\n",
      "  True  True False False False]\n"
     ]
    }
   ],
   "source": [
    "norain = 0\n",
    "rainydays = rainin > norain\n",
    "print(rainydays)"
   ]
  },
  {
   "cell_type": "code",
   "execution_count": null,
   "id": "e9215ec8-5b2f-4a50-b780-eeed973eab29",
   "metadata": {},
   "outputs": [],
   "source": []
  },
  {
   "cell_type": "code",
   "execution_count": null,
   "id": "c1c501b8-d2c4-4e95-af3d-6f049cdd73b1",
   "metadata": {},
   "outputs": [],
   "source": [
    "# Construct a mask of all summer days. All summer days can be counted from June 1st to August 31st. 3 points"
   ]
  },
  {
   "cell_type": "code",
   "execution_count": 336,
   "id": "36701b13-ccd0-4881-bf69-5d14d66064bd",
   "metadata": {},
   "outputs": [
    {
     "name": "stdout",
     "output_type": "stream",
     "text": [
      "[False False False False False False False False False False False False\n",
      " False False False False False False False False False False False False\n",
      " False False False False False False False False False False False False\n",
      " False False False False False False False False False False False False\n",
      " False False False False False False False False False False False False\n",
      " False False False False False False False False False False False False\n",
      " False False False False False False False False False False False False\n",
      " False False False False False False False False False False False False\n",
      " False False False False False False False False False False False False\n",
      " False False False False False False False False False False False False\n",
      " False False False False False False False False False False False False\n",
      " False False False False False False False False False False False False\n",
      " False False False False False False False  True  True  True  True  True\n",
      "  True  True  True  True  True  True  True  True  True  True  True  True\n",
      "  True  True  True  True  True  True  True  True  True  True  True  True\n",
      "  True  True  True  True  True  True  True  True  True  True  True  True\n",
      "  True  True  True  True  True  True  True  True  True  True  True  True\n",
      "  True  True  True  True  True  True  True  True  True  True  True  True\n",
      "  True  True  True  True  True  True  True  True  True  True  True  True\n",
      "  True  True  True  True  True  True  True  True  True  True  True  True\n",
      "  True  True  True False False False False False False False False False\n",
      " False False False False False False False False False False False False\n",
      " False False False False False False False False False False False False\n",
      " False False False False False False False False False False False False\n",
      " False False False False False False False False False False False False\n",
      " False False False False False False False False False False False False\n",
      " False False False False False False False False False False False False\n",
      " False False False False False False False False False False False False\n",
      " False False False False False False False False False False False False\n",
      " False False False False False False False False False False False False\n",
      " False False False False False]\n"
     ]
    }
   ],
   "source": [
    "wholeyear = np.arange(1, len(rainin) + 1)\n",
    "summerdays = np.logical_and(wholeyear >= 152, wholeyear <= 243)\n",
    "print(summerdays)"
   ]
  },
  {
   "cell_type": "code",
   "execution_count": null,
   "id": "51385d2b-d8b9-440f-a071-c448ca116a57",
   "metadata": {},
   "outputs": [],
   "source": []
  },
  {
   "cell_type": "code",
   "execution_count": null,
   "id": "ff9e5860-460c-46b9-a3a0-397d3d41936a",
   "metadata": {},
   "outputs": [],
   "source": [
    "# Calculate median precip (precipitation) on rainy days in this year.   3 points"
   ]
  },
  {
   "cell_type": "code",
   "execution_count": 379,
   "id": "16a410da-c6d1-4975-906f-9d48e2b8025b",
   "metadata": {},
   "outputs": [
    {
     "name": "stdout",
     "output_type": "stream",
     "text": [
      "0.19488188976377951\n"
     ]
    }
   ],
   "source": [
    "norain = 0\n",
    "rainydays = rainin[rainin > norain]\n",
    "median = np.median(rainydays)\n",
    "print(median)"
   ]
  },
  {
   "cell_type": "code",
   "execution_count": null,
   "id": "4a337889-2b25-4510-867a-de966edcb491",
   "metadata": {},
   "outputs": [],
   "source": []
  },
  {
   "cell_type": "code",
   "execution_count": null,
   "id": "4daeafbe-10bd-4e6f-b189-090bc04e0aac",
   "metadata": {},
   "outputs": [],
   "source": [
    "# Calculate median precip (precipitation) on summer days in this year.   3 points"
   ]
  },
  {
   "cell_type": "code",
   "execution_count": 366,
   "id": "a1ab0b7f-ac56-443a-80f8-3b6a48a8be87",
   "metadata": {},
   "outputs": [
    {
     "name": "stdout",
     "output_type": "stream",
     "text": [
      "[0.         0.         0.         0.         0.         0.\n",
      " 0.         0.         0.         0.         0.07086614 0.2519685\n",
      " 0.         0.01968504 0.14173228 0.0511811  0.         0.03149606\n",
      " 0.01181102 0.         0.         0.         0.         0.\n",
      " 0.         0.07086614 0.09055118 0.         0.         0.\n",
      " 0.         0.         0.         0.         0.         0.\n",
      " 0.         0.         0.         0.         0.         0.\n",
      " 0.         0.         0.         0.         0.         0.\n",
      " 0.         0.         0.01181102 0.75984252 0.         0.\n",
      " 0.         0.         0.         0.         0.         0.\n",
      " 0.         0.01968504 0.         0.         0.         0.\n",
      " 0.         0.         0.         0.         0.01968504 0.5\n",
      " 0.8503937  0.         0.03937008 0.         0.         0.\n",
      " 0.         0.         0.         0.         0.         0.\n",
      " 0.         0.         0.         0.         0.         0.33070866\n",
      " 0.0511811  0.        ]\n",
      "0.0\n"
     ]
    }
   ],
   "source": [
    "summerdays = np.arange(152, 244)\n",
    "summerprec = rainin[summerdays]\n",
    "print(summerprec)\n",
    "\n",
    "median = np.median(summerprec)\n",
    "print(median)"
   ]
  },
  {
   "cell_type": "code",
   "execution_count": 367,
   "id": "9bae599b-7bcc-4127-a11d-28adcdd71320",
   "metadata": {},
   "outputs": [
    {
     "name": "stdout",
     "output_type": "stream",
     "text": [
      "0.0\n"
     ]
    }
   ],
   "source": [
    "print(median)"
   ]
  },
  {
   "cell_type": "code",
   "execution_count": null,
   "id": "b827f10b-907b-4a95-b945-9d8157edaa91",
   "metadata": {},
   "outputs": [],
   "source": []
  },
  {
   "cell_type": "code",
   "execution_count": null,
   "id": "f4f82655-5758-4ccd-b3a3-65808ca3c47b",
   "metadata": {},
   "outputs": [],
   "source": [
    "# Calculate maximum precip on summer days in this year.  3 points"
   ]
  },
  {
   "cell_type": "code",
   "execution_count": 370,
   "id": "d3c693c5-264e-4f7e-b2ae-07b4f65ca48b",
   "metadata": {},
   "outputs": [
    {
     "name": "stdout",
     "output_type": "stream",
     "text": [
      "0.8503937007874016\n"
     ]
    }
   ],
   "source": [
    "wholeyear = np.arange(1, len(rainin) + 1)\n",
    "summerdays = np.logical_and(wholeyear >= 152, wholeyear <= 243)\n",
    "summerprec = rainin[summerdays]\n",
    "maxprec = np.max(summerprec)\n",
    "print(maxprec)"
   ]
  },
  {
   "cell_type": "code",
   "execution_count": null,
   "id": "ec03c4ea-6a02-41c8-83e6-0e032849d59f",
   "metadata": {},
   "outputs": [],
   "source": []
  },
  {
   "cell_type": "code",
   "execution_count": null,
   "id": "22051393-101c-4dc9-bcda-4bbfc4741e26",
   "metadata": {},
   "outputs": [],
   "source": [
    "# Calculate median precip on non-summer rainy days in this year.   3points"
   ]
  },
  {
   "cell_type": "code",
   "execution_count": 377,
   "id": "36d2d440-14c2-450a-a365-597d61c584de",
   "metadata": {},
   "outputs": [
    {
     "name": "stdout",
     "output_type": "stream",
     "text": [
      "0.2047244094488189\n"
     ]
    }
   ],
   "source": [
    "wholeyear = np.arange(1, len(rainin) + 1)  \n",
    "summerdays = np.logical_and(wholeyear >= 152, wholeyear <= 243)\n",
    "rainydays = rainin > 0\n",
    "nonsummer_rainydays = np.logical_and(np.logical_not(summerdays), rainydays)\n",
    "precipitation = rainin[nonsummer_rainydays]\n",
    "median = np.median(precipitation)\n",
    "print(median)"
   ]
  },
  {
   "cell_type": "code",
   "execution_count": null,
   "id": "47472aca-ffba-4f75-90b8-eefe0c0a4075",
   "metadata": {},
   "outputs": [],
   "source": []
  }
 ],
 "metadata": {
  "kernelspec": {
   "display_name": "Python 3 (ipykernel)",
   "language": "python",
   "name": "python3"
  },
  "language_info": {
   "codemirror_mode": {
    "name": "ipython",
    "version": 3
   },
   "file_extension": ".py",
   "mimetype": "text/x-python",
   "name": "python",
   "nbconvert_exporter": "python",
   "pygments_lexer": "ipython3",
   "version": "3.9.13"
  }
 },
 "nbformat": 4,
 "nbformat_minor": 5
}
